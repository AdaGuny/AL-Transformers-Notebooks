{
 "cells": [
  {
   "cell_type": "code",
   "execution_count": 1,
   "metadata": {
    "scrolled": false
   },
   "outputs": [],
   "source": [
    "#!pip install something_missing"
   ]
  },
  {
   "cell_type": "code",
   "execution_count": 2,
   "metadata": {
    "colab": {
     "base_uri": "https://localhost:8080/",
     "height": 63
    },
    "colab_type": "code",
    "id": "fvFvBLJV0Dkv",
    "outputId": "140119e5-4cee-4604-c0d2-be279c18b125"
   },
   "outputs": [
    {
     "name": "stderr",
     "output_type": "stream",
     "text": [
      "2022-03-15 16:45:53.620958: W tensorflow/stream_executor/platform/default/dso_loader.cc:64] Could not load dynamic library 'libcudart.so.11.0'; dlerror: libcudart.so.11.0: cannot open shared object file: No such file or directory\n",
      "2022-03-15 16:45:53.621000: I tensorflow/stream_executor/cuda/cudart_stub.cc:29] Ignore above cudart dlerror if you do not have a GPU set up on your machine.\n"
     ]
    }
   ],
   "source": [
    "import numpy as np\n",
    "import pandas as pd\n",
    "from sklearn.model_selection import train_test_split\n",
    "from sklearn.linear_model import LogisticRegression\n",
    "from sklearn.model_selection import GridSearchCV\n",
    "from sklearn.model_selection import cross_val_score\n",
    "from sklearn import metrics\n",
    "from sklearn.ensemble import RandomForestClassifier\n",
    "import torch\n",
    "import transformers as ppb\n",
    "import warnings\n",
    "warnings.filterwarnings('ignore')\n",
    "import tensorflow as tf\n",
    "import time\n",
    "import copy\n",
    "from sklearn.datasets import make_classification\n",
    "from alipy import ToolBox"
   ]
  },
  {
   "cell_type": "code",
   "execution_count": 3,
   "metadata": {},
   "outputs": [
    {
     "name": "stderr",
     "output_type": "stream",
     "text": [
      "2022-03-15 16:45:56.197456: I tensorflow/core/platform/cpu_feature_guard.cc:151] This TensorFlow binary is optimized with oneAPI Deep Neural Network Library (oneDNN) to use the following CPU instructions in performance-critical operations:  AVX2 AVX512F FMA\n",
      "To enable them in other operations, rebuild TensorFlow with the appropriate compiler flags.\n",
      "2022-03-15 16:45:56.200290: W tensorflow/stream_executor/platform/default/dso_loader.cc:64] Could not load dynamic library 'libcuda.so.1'; dlerror: libcuda.so.1: cannot open shared object file: No such file or directory\n",
      "2022-03-15 16:45:56.200334: W tensorflow/stream_executor/cuda/cuda_driver.cc:269] failed call to cuInit: UNKNOWN ERROR (303)\n",
      "2022-03-15 16:45:56.200374: I tensorflow/stream_executor/cuda/cuda_diagnostics.cc:156] kernel driver does not appear to be running on this host (ax1): /proc/driver/nvidia/version does not exist\n"
     ]
    },
    {
     "data": {
      "text/plain": [
       "''"
      ]
     },
     "execution_count": 3,
     "metadata": {},
     "output_type": "execute_result"
    }
   ],
   "source": [
    "# Check Gpu\n",
    "tf.test.gpu_device_name()"
   ]
  },
  {
   "cell_type": "code",
   "execution_count": 4,
   "metadata": {
    "colab": {},
    "colab_type": "code",
    "id": "cyoj29J24hPX"
   },
   "outputs": [],
   "source": [
    "# Import the Dataset\n",
    "df = pd.read_csv('https://github.com/clairett/pytorch-sentiment-classification/raw/master/data/SST2/train.tsv', delimiter='\\t', header=None)"
   ]
  },
  {
   "cell_type": "code",
   "execution_count": 5,
   "metadata": {},
   "outputs": [
    {
     "name": "stdout",
     "output_type": "stream",
     "text": [
      "(6920, 2)\n"
     ]
    }
   ],
   "source": [
    "print(df.shape)"
   ]
  },
  {
   "cell_type": "code",
   "execution_count": 6,
   "metadata": {
    "colab": {},
    "colab_type": "code",
    "id": "gTM3hOHW4hUY"
   },
   "outputs": [],
   "source": [
    "# Limit dataframe to work faster\n",
    "#df = df[:500]"
   ]
  },
  {
   "cell_type": "code",
   "execution_count": 7,
   "metadata": {
    "colab": {
     "base_uri": "https://localhost:8080/",
     "height": 68
    },
    "colab_type": "code",
    "id": "jGvcfcCP5xpZ",
    "outputId": "4c4a8afc-1035-4b21-ba9a-c4bb6cfc6347"
   },
   "outputs": [
    {
     "data": {
      "text/plain": [
       "1    3610\n",
       "0    3310\n",
       "Name: 1, dtype: int64"
      ]
     },
     "execution_count": 7,
     "metadata": {},
     "output_type": "execute_result"
    }
   ],
   "source": [
    "# Get total number of positive and negative reviews\n",
    "df[1].value_counts()"
   ]
  },
  {
   "cell_type": "code",
   "execution_count": 8,
   "metadata": {
    "colab": {},
    "colab_type": "code",
    "id": "Dg82ndBA5xlN"
   },
   "outputs": [],
   "source": [
    "# Our first step is to tokenize the sentences -- break them up into word and subwords in the format BERT is comfortable with.\n",
    "\n",
    "# Create Bert tokenizer class\n",
    "tokenizer_class = ppb.BertTokenizer\n",
    "\n",
    "# Save the weights for uncased Bert \n",
    "pretrained_weights = 'bert-base-uncased'\n",
    "\n",
    "# Create a tokenizer from tokenizer class\n",
    "tokenizer = tokenizer_class.from_pretrained(pretrained_weights)\n",
    "\n",
    "# Tokenize all of the sentences \n",
    "tokenized = df[0].apply((lambda x: tokenizer.encode(x, add_special_tokens=True)))"
   ]
  },
  {
   "cell_type": "code",
   "execution_count": 9,
   "metadata": {
    "scrolled": true
   },
   "outputs": [
    {
     "data": {
      "text/plain": [
       "0       [101, 1037, 18385, 1010, 6057, 1998, 2633, 182...\n",
       "1       [101, 4593, 2128, 27241, 23931, 2013, 1996, 62...\n",
       "2       [101, 2027, 3653, 23545, 2037, 4378, 24185, 10...\n",
       "3       [101, 2023, 2003, 1037, 17453, 14726, 19379, 1...\n",
       "4       [101, 5655, 6262, 1005, 1055, 12075, 2571, 376...\n",
       "                              ...                        \n",
       "6915    [101, 9145, 1010, 7570, 18752, 14116, 1998, 28...\n",
       "6916    [101, 2202, 2729, 2003, 19957, 2864, 2011, 103...\n",
       "6917    [101, 1996, 5896, 4472, 4121, 1010, 3082, 7832...\n",
       "6918    [101, 1037, 5667, 2919, 2143, 2007, 5667, 2561...\n",
       "6919    [101, 1037, 12090, 2135, 2512, 5054, 19570, 23...\n",
       "Name: 0, Length: 6920, dtype: object"
      ]
     },
     "execution_count": 9,
     "metadata": {},
     "output_type": "execute_result"
    }
   ],
   "source": [
    "tokenized"
   ]
  },
  {
   "cell_type": "code",
   "execution_count": 10,
   "metadata": {},
   "outputs": [
    {
     "data": {
      "text/plain": [
       "(6920,)"
      ]
     },
     "execution_count": 10,
     "metadata": {},
     "output_type": "execute_result"
    }
   ],
   "source": [
    "tokenized.shape"
   ]
  },
  {
   "cell_type": "code",
   "execution_count": 11,
   "metadata": {
    "colab": {},
    "colab_type": "code",
    "id": "URn-DWJt5xhP"
   },
   "outputs": [
    {
     "data": {
      "text/plain": [
       "array([[  101,  1037, 18385, ...,     0,     0,     0],\n",
       "       [  101,  4593,  2128, ...,     0,     0,     0],\n",
       "       [  101,  2027,  3653, ...,     0,     0,     0],\n",
       "       ...,\n",
       "       [  101,  1996,  5896, ...,     0,     0,     0],\n",
       "       [  101,  1037,  5667, ...,     0,     0,     0],\n",
       "       [  101,  1037, 12090, ...,     0,     0,     0]])"
      ]
     },
     "execution_count": 11,
     "metadata": {},
     "output_type": "execute_result"
    }
   ],
   "source": [
    "# Add padding to all of the sentences so that they have the same size\n",
    "# So the input can be represented as a 2d array\n",
    "# Important for performance\n",
    "\n",
    "max_len = 0\n",
    "for i in tokenized.values:\n",
    "    if len(i) > max_len:\n",
    "        max_len = len(i)\n",
    "\n",
    "padded = np.array([i + [0]*(max_len-len(i)) for i in tokenized.values])\n",
    "\n",
    "padded"
   ]
  },
  {
   "cell_type": "code",
   "execution_count": 12,
   "metadata": {
    "colab": {
     "base_uri": "https://localhost:8080/",
     "height": 34
    },
    "colab_type": "code",
    "id": "jdi7uXo95xeq",
    "outputId": "be786022-e84f-4e28-8531-0143af2347bc"
   },
   "outputs": [
    {
     "data": {
      "text/plain": [
       "(6920, 67)"
      ]
     },
     "execution_count": 12,
     "metadata": {},
     "output_type": "execute_result"
    }
   ],
   "source": [
    "np.array(padded).shape"
   ]
  },
  {
   "cell_type": "code",
   "execution_count": 13,
   "metadata": {
    "colab": {
     "base_uri": "https://localhost:8080/",
     "height": 34
    },
    "colab_type": "code",
    "id": "4K_iGRNa_Ozc",
    "outputId": "d03b0a9b-1f6e-4e32-831e-b04f5389e57c"
   },
   "outputs": [
    {
     "data": {
      "text/plain": [
       "array([[1, 1, 1, ..., 0, 0, 0],\n",
       "       [1, 1, 1, ..., 0, 0, 0],\n",
       "       [1, 1, 1, ..., 0, 0, 0],\n",
       "       ...,\n",
       "       [1, 1, 1, ..., 0, 0, 0],\n",
       "       [1, 1, 1, ..., 0, 0, 0],\n",
       "       [1, 1, 1, ..., 0, 0, 0]])"
      ]
     },
     "execution_count": 13,
     "metadata": {},
     "output_type": "execute_result"
    }
   ],
   "source": [
    "# Attention mask is created to mask the padded values\n",
    "attention_mask = np.where(padded != 0, 1, 0)\n",
    "attention_mask"
   ]
  },
  {
   "cell_type": "code",
   "execution_count": 14,
   "metadata": {
    "scrolled": true
   },
   "outputs": [
    {
     "data": {
      "text/plain": [
       "(6920, 67)"
      ]
     },
     "execution_count": 14,
     "metadata": {},
     "output_type": "execute_result"
    }
   ],
   "source": [
    "attention_mask.shape"
   ]
  },
  {
   "cell_type": "code",
   "execution_count": 15,
   "metadata": {
    "colab": {
     "base_uri": "https://localhost:8080/",
     "height": 68
    },
    "colab_type": "code",
    "id": "q1InADgf5xm2",
    "outputId": "dbc52856-4d52-42f8-8a74-a89944280a02"
   },
   "outputs": [
    {
     "name": "stderr",
     "output_type": "stream",
     "text": [
      "Some weights of the model checkpoint at bert-base-uncased were not used when initializing BertModel: ['cls.predictions.transform.LayerNorm.bias', 'cls.seq_relationship.weight', 'cls.predictions.transform.dense.weight', 'cls.predictions.decoder.weight', 'cls.predictions.transform.LayerNorm.weight', 'cls.seq_relationship.bias', 'cls.predictions.transform.dense.bias', 'cls.predictions.bias']\n",
      "- This IS expected if you are initializing BertModel from the checkpoint of a model trained on another task or with another architecture (e.g. initializing a BertForSequenceClassification model from a BertForPreTraining model).\n",
      "- This IS NOT expected if you are initializing BertModel from the checkpoint of a model that you expect to be exactly identical (initializing a BertForSequenceClassification model from a BertForSequenceClassification model).\n"
     ]
    }
   ],
   "source": [
    "# Create config just in case \n",
    "config = ppb.BertConfig(output_hidden_states=True)\n",
    "model_class = ppb.BertModel(config=config)\n",
    "\n",
    "# Load pretrained model/tokenizer\n",
    "model = model_class.from_pretrained(pretrained_weights)\n"
   ]
  },
  {
   "cell_type": "code",
   "execution_count": 16,
   "metadata": {},
   "outputs": [
    {
     "data": {
      "text/plain": [
       "BertConfig {\n",
       "  \"_name_or_path\": \"bert-base-uncased\",\n",
       "  \"architectures\": [\n",
       "    \"BertForMaskedLM\"\n",
       "  ],\n",
       "  \"attention_probs_dropout_prob\": 0.1,\n",
       "  \"classifier_dropout\": null,\n",
       "  \"gradient_checkpointing\": false,\n",
       "  \"hidden_act\": \"gelu\",\n",
       "  \"hidden_dropout_prob\": 0.1,\n",
       "  \"hidden_size\": 768,\n",
       "  \"initializer_range\": 0.02,\n",
       "  \"intermediate_size\": 3072,\n",
       "  \"layer_norm_eps\": 1e-12,\n",
       "  \"max_position_embeddings\": 512,\n",
       "  \"model_type\": \"bert\",\n",
       "  \"num_attention_heads\": 12,\n",
       "  \"num_hidden_layers\": 12,\n",
       "  \"pad_token_id\": 0,\n",
       "  \"position_embedding_type\": \"absolute\",\n",
       "  \"transformers_version\": \"4.17.0\",\n",
       "  \"type_vocab_size\": 2,\n",
       "  \"use_cache\": true,\n",
       "  \"vocab_size\": 30522\n",
       "}"
      ]
     },
     "execution_count": 16,
     "metadata": {},
     "output_type": "execute_result"
    }
   ],
   "source": [
    "# Check model config \n",
    "model.config"
   ]
  },
  {
   "cell_type": "code",
   "execution_count": 17,
   "metadata": {
    "colab": {},
    "colab_type": "code",
    "id": "39UVjAV56PJz"
   },
   "outputs": [],
   "source": [
    "# Transform padded to a tensor \n",
    "input_ids = torch.tensor(padded)  \n",
    "\n",
    "# Transfer mask to a tensor \n",
    "attention_mask = torch.tensor(attention_mask)\n",
    "\n",
    "# Run the sentences through BERT save the states of each layer to hidden_states\n",
    "with torch.no_grad():    \n",
    "    outputs = model(input_ids, attention_mask=attention_mask, output_hidden_states=True)"
   ]
  },
  {
   "cell_type": "code",
   "execution_count": 18,
   "metadata": {},
   "outputs": [
    {
     "data": {
      "text/plain": [
       "3"
      ]
     },
     "execution_count": 18,
     "metadata": {},
     "output_type": "execute_result"
    }
   ],
   "source": [
    "len(outputs)"
   ]
  },
  {
   "cell_type": "code",
   "execution_count": 19,
   "metadata": {
    "scrolled": false
   },
   "outputs": [],
   "source": [
    "#outputs[2] gets all of the 12 layers\n",
    "\n",
    "hidden_states = outputs[2]"
   ]
  },
  {
   "cell_type": "code",
   "execution_count": 20,
   "metadata": {},
   "outputs": [
    {
     "data": {
      "text/plain": [
       "13"
      ]
     },
     "execution_count": 20,
     "metadata": {},
     "output_type": "execute_result"
    }
   ],
   "source": [
    "len(hidden_states)"
   ]
  },
  {
   "cell_type": "code",
   "execution_count": 21,
   "metadata": {},
   "outputs": [],
   "source": [
    "embedding_output = hidden_states[0]\n",
    "\n",
    "layer_1 = hidden_states[1]\n",
    "layer_2 = hidden_states[2]\n",
    "layer_3 = hidden_states[3]\n",
    "layer_4 = hidden_states[4]\n",
    "layer_5 = hidden_states[5]\n",
    "layer_6 = hidden_states[6]\n",
    "layer_7 = hidden_states[7]\n",
    "layer_8 = hidden_states[8]\n",
    "layer_9 = hidden_states[9]\n",
    "layer_10 = hidden_states[10]\n",
    "layer_11 = hidden_states[11]\n",
    "layer_12 = hidden_states[12]"
   ]
  },
  {
   "cell_type": "code",
   "execution_count": 22,
   "metadata": {
    "colab": {},
    "colab_type": "code",
    "id": "C9t60At16PVs"
   },
   "outputs": [
    {
     "data": {
      "text/plain": [
       "(6920,)"
      ]
     },
     "execution_count": 22,
     "metadata": {},
     "output_type": "execute_result"
    }
   ],
   "source": [
    "# Let's slice only the part of the output that we need. That is the output corresponding the first token of each sentence. \n",
    "# The way BERT does sentence classification, is that it adds a token called [CLS] (for classification) at the beginning of every sentence. \n",
    "# The output corresponding to that token can be thought of as an embedding for the entire sentence.\n",
    "# We'll save those in the features variable, as they'll serve as the features to our random forest classifier.\n",
    "\n",
    "features_1 = layer_1[:,0,:].numpy()\n",
    "features_2 = layer_2[:,0,:].numpy()\n",
    "features_3 = layer_3[:,0,:].numpy()\n",
    "features_4 = layer_4[:,0,:].numpy()\n",
    "features_5 = layer_5[:,0,:].numpy()\n",
    "features_6 = layer_6[:,0,:].numpy()\n",
    "features_7 = layer_7[:,0,:].numpy()\n",
    "features_8 = layer_8[:,0,:].numpy()\n",
    "features_9 = layer_9[:,0,:].numpy()\n",
    "features_10 = layer_10[:,0,:].numpy()\n",
    "features_11 = layer_11[:,0,:].numpy()\n",
    "features_12 = layer_12[:,0,:].numpy()\n",
    "\n",
    "labels = df[1]\n",
    "labels_np = labels.to_numpy()\n",
    "\n",
    "labels_np.shape"
   ]
  },
  {
   "cell_type": "code",
   "execution_count": 23,
   "metadata": {},
   "outputs": [],
   "source": [
    "#Do active learning with y_confidence values but how?\n",
    "\n",
    "#!pip install alipy\n",
    "\n",
    "total_time = []"
   ]
  },
  {
   "cell_type": "code",
   "execution_count": 24,
   "metadata": {},
   "outputs": [],
   "source": [
    "# Define active learning loop using ALiPy\n",
    "# Check http://parnec.nuaa.edu.cn/_upload/tpl/02/db/731/template731/pages/huangsj/alipy/example.html#collapseOne\n",
    "\n",
    "def main_loop(alibox, strategy, round):\n",
    "        # Get the data split of one fold experiment\n",
    "        train_idx, test_idx, label_ind, unlab_ind = alibox.get_split(round)\n",
    "        # Get intermediate results saver for one fold experiment\n",
    "        saver = alibox.get_stateio(round, saving_path=f\"./{strategy.__class__.__name__}_{round}.pkl\")\n",
    "\n",
    "        # Set initial performance point\n",
    "        model.fit(X=X[label_ind.index, :], y=y[label_ind.index])\n",
    "        pred = model.predict(X[test_idx, :])\n",
    "        accuracy = alibox.calc_performance_metric(y_true=y[test_idx],\n",
    "                                                  y_pred=pred,\n",
    "                                                  performance_metric='accuracy_score')\n",
    "        saver.set_initial_point(accuracy)\n",
    "\n",
    "        # If the stopping criterion is simple, such as query 50 times. Use `for i in range(50):` is ok.\n",
    "        while not stopping_criterion.is_stop():\n",
    "            # Select a subset of Uind according to the query strategy\n",
    "            # Passing model=None to use the default model for evaluating the committees' disagreement\n",
    "            # Set batch size 2\n",
    "            select_ind = strategy.select(label_index=label_ind, unlabel_index=unlab_ind, batch_size=32, model=model)\n",
    "            label_ind.update(select_ind)\n",
    "            unlab_ind.difference_update(select_ind)\n",
    "            \n",
    "            \n",
    "            start = time.time()\n",
    "            # Update model and calc performance according to the model you are using\n",
    "            model.fit(X=X[label_ind.index, :], y=y[label_ind.index])\n",
    "            end = time.time()\n",
    "            \n",
    "            iteration_time = end-start\n",
    "            total_time.append(iteration_time)\n",
    "            \n",
    "            pred = model.predict(X[test_idx, :])\n",
    "            accuracy = alibox.calc_performance_metric(y_true=y[test_idx],\n",
    "                                                      y_pred=pred,\n",
    "                                                      performance_metric='accuracy_score')\n",
    "\n",
    "            # Save intermediate results to file\n",
    "            st = alibox.State(select_index=select_ind, performance=accuracy)\n",
    "            saver.add_state(st)\n",
    "            saver.save()\n",
    "\n",
    "            # Passing the current progress to stopping criterion object\n",
    "            stopping_criterion.update_information(saver)\n",
    "        # Reset the progress in stopping criterion object\n",
    "        stopping_criterion.reset()\n",
    "        return saver"
   ]
  },
  {
   "cell_type": "code",
   "execution_count": 25,
   "metadata": {},
   "outputs": [],
   "source": [
    "# Define some stuff for AL loop\n",
    "\n",
    "n_iteration = 1200 \n"
   ]
  },
  {
   "cell_type": "code",
   "execution_count": 26,
   "metadata": {},
   "outputs": [],
   "source": [
    "# Create holders for uncertantiy sampling results for each different layer\n",
    "\n",
    "unc_result_1 = []\n",
    "unc_result_2 = []\n",
    "unc_result_3 = []\n",
    "unc_result_4 = []\n",
    "unc_result_5 = []\n",
    "unc_result_6 = []\n",
    "unc_result_7 = []\n",
    "unc_result_8 = []\n",
    "unc_result_9 = []\n",
    "unc_result_10 = []\n",
    "unc_result_11 = []\n",
    "unc_result_12 = []\n",
    "\n",
    "unc_result_add_last_4 = []\n",
    "unc_result_cct_last_4 = []\n",
    "\n",
    "\n",
    "unc_results = (unc_result_1, unc_result_2, unc_result_3, unc_result_4, unc_result_5, unc_result_6,\n",
    "                unc_result_7, unc_result_8, unc_result_9, unc_result_10, unc_result_11, unc_result_12,\n",
    "                unc_result_add_last_4, unc_result_cct_last_4)"
   ]
  },
  {
   "cell_type": "code",
   "execution_count": 27,
   "metadata": {},
   "outputs": [],
   "source": [
    "# Save the CLS values in a list to iterate them on the model\n",
    "CLS_layers = ()"
   ]
  },
  {
   "cell_type": "code",
   "execution_count": 28,
   "metadata": {
    "scrolled": true
   },
   "outputs": [],
   "source": [
    "# get layer combinations for addition\n",
    "\n",
    "add_5_6 = np.add(features_5, features_6)\n",
    "add_7_8 = np.add(features_7, features_8)\n",
    "add_9_10 = np.add(features_9, features_10)\n",
    "add_11_12 = np.add(features_11, features_12)\n",
    "\n",
    "\n",
    "add_9_12 = np.add(add_9_10, add_11_12)\n",
    "\n",
    "add_7_10 = np.add(add_7_8, add_9_10)\n",
    "\n",
    "add_5_8 = np.add(add_5_6, add_7_8)\n",
    "\n"
   ]
  },
  {
   "cell_type": "code",
   "execution_count": 29,
   "metadata": {},
   "outputs": [],
   "source": [
    "CLS_layers = (features_1, features_2, features_3, features_4, features_5, features_6, features_7,\n",
    "                features_8, features_9, features_10, features_11, features_12, add_7_10, add_9_12)"
   ]
  },
  {
   "cell_type": "code",
   "execution_count": 30,
   "metadata": {},
   "outputs": [
    {
     "name": "stdout",
     "output_type": "stream",
     "text": [
      "\n",
      "| round | initially labeled data | number of queries | cost | Performance: |\n",
      "|   0   |   484 (9.99% of all)   |        137        |  0   | 0.717 ± 0.02 |\n",
      "| round | initially labeled data | number of queries | cost | Performance: |\n",
      "|   1   |   484 (9.99% of all)   |        137        |  0   | 0.709 ± 0.02 |\n",
      "| round | initially labeled data | number of queries | cost | Performance: |\n",
      "|   2   |   484 (9.99% of all)   |        137        |  0   | 0.723 ± 0.02 |\n",
      "| round | initially labeled data | number of queries | cost | Performance: |\n",
      "|   3   |   484 (9.99% of all)   |        137        |  0   | 0.718 ± 0.02 |\n",
      "| round | initially labeled data | number of queries | cost | Performance: |\n",
      "|   4   |   484 (9.99% of all)   |        137        |  0   | 0.725 ± 0.02 |\n",
      "| round | initially labeled data | number of queries | cost | Performance: |\n",
      "|   0   |   484 (9.99% of all)   |        137        |  0   | 0.732 ± 0.02 |\n",
      "| round | initially labeled data | number of queries | cost | Performance: |\n",
      "|   1   |   484 (9.99% of all)   |        137        |  0   | 0.735 ± 0.02 |\n",
      "| round | initially labeled data | number of queries | cost | Performance: |\n",
      "|   2   |   484 (9.99% of all)   |        137        |  0   | 0.748 ± 0.02 |\n",
      "| round | initially labeled data | number of queries | cost | Performance: |\n",
      "|   3   |   484 (9.99% of all)   |        137        |  0   | 0.736 ± 0.02 |\n",
      "| round | initially labeled data | number of queries | cost | Performance: |\n",
      "|   4   |   484 (9.99% of all)   |        137        |  0   | 0.734 ± 0.02 |\n",
      "| round | initially labeled data | number of queries | cost | Performance: |\n",
      "|   0   |   484 (9.99% of all)   |        137        |  0   | 0.736 ± 0.02 |\n",
      "| round | initially labeled data | number of queries | cost | Performance: |\n",
      "|   1   |   484 (9.99% of all)   |        137        |  0   | 0.739 ± 0.01 |\n",
      "| round | initially labeled data | number of queries | cost | Performance: |\n",
      "|   2   |   484 (9.99% of all)   |        137        |  0   | 0.751 ± 0.01 |\n",
      "| round | initially labeled data | number of queries | cost | Performance: |\n",
      "|   3   |   484 (9.99% of all)   |        137        |  0   | 0.740 ± 0.02 |\n",
      "| round | initially labeled data | number of queries | cost | Performance: |\n",
      "|   4   |   484 (9.99% of all)   |        137        |  0   | 0.749 ± 0.01 |\n",
      "| round | initially labeled data | number of queries | cost | Performance: |\n",
      "|   0   |   484 (9.99% of all)   |        137        |  0   | 0.745 ± 0.02 |\n",
      "| round | initially labeled data | number of queries | cost | Performance: |\n",
      "|   1   |   484 (9.99% of all)   |        137        |  0   | 0.751 ± 0.01 |\n",
      "| round | initially labeled data | number of queries | cost | Performance: |\n",
      "|   2   |   484 (9.99% of all)   |        137        |  0   | 0.761 ± 0.01 |\n",
      "| round | initially labeled data | number of queries | cost | Performance: |\n",
      "|   3   |   484 (9.99% of all)   |        137        |  0   | 0.754 ± 0.02 |\n",
      "| round | initially labeled data | number of queries | cost | Performance: |\n",
      "|   4   |   484 (9.99% of all)   |        137        |  0   | 0.766 ± 0.02 |\n",
      "| round | initially labeled data | number of queries | cost | Performance: |\n",
      "|   0   |   484 (9.99% of all)   |        137        |  0   | 0.762 ± 0.02 |\n",
      "| round | initially labeled data | number of queries | cost | Performance: |\n",
      "|   1   |   484 (9.99% of all)   |        137        |  0   | 0.763 ± 0.02 |\n",
      "| round | initially labeled data | number of queries | cost | Performance: |\n",
      "|   2   |   484 (9.99% of all)   |        137        |  0   | 0.764 ± 0.02 |\n",
      "| round | initially labeled data | number of queries | cost | Performance: |\n",
      "|   3   |   484 (9.99% of all)   |        137        |  0   | 0.759 ± 0.02 |\n",
      "| round | initially labeled data | number of queries | cost | Performance: |\n",
      "|   4   |   484 (9.99% of all)   |        137        |  0   | 0.766 ± 0.02 |\n",
      "| round | initially labeled data | number of queries | cost | Performance: |\n",
      "|   0   |   484 (9.99% of all)   |        137        |  0   | 0.780 ± 0.02 |\n",
      "| round | initially labeled data | number of queries | cost | Performance: |\n",
      "|   1   |   484 (9.99% of all)   |        137        |  0   | 0.772 ± 0.01 |\n",
      "| round | initially labeled data | number of queries | cost | Performance: |\n",
      "|   2   |   484 (9.99% of all)   |        137        |  0   | 0.785 ± 0.01 |\n",
      "| round | initially labeled data | number of queries | cost | Performance: |\n",
      "|   3   |   484 (9.99% of all)   |        137        |  0   | 0.785 ± 0.01 |\n",
      "| round | initially labeled data | number of queries | cost | Performance: |\n",
      "|   4   |   484 (9.99% of all)   |        137        |  0   | 0.787 ± 0.02 |\n",
      "| round | initially labeled data | number of queries | cost | Performance: |\n",
      "|   0   |   484 (9.99% of all)   |        137        |  0   | 0.778 ± 0.01 |\n",
      "| round | initially labeled data | number of queries | cost | Performance: |\n",
      "|   1   |   484 (9.99% of all)   |        137        |  0   | 0.769 ± 0.02 |\n",
      "| round | initially labeled data | number of queries | cost | Performance: |\n",
      "|   2   |   484 (9.99% of all)   |        137        |  0   | 0.777 ± 0.01 |\n",
      "| round | initially labeled data | number of queries | cost | Performance: |\n",
      "|   3   |   484 (9.99% of all)   |        137        |  0   | 0.766 ± 0.02 |\n",
      "| round | initially labeled data | number of queries | cost | Performance: |\n",
      "|   4   |   484 (9.99% of all)   |        137        |  0   | 0.771 ± 0.01 |\n",
      "| round | initially labeled data | number of queries | cost | Performance: |\n",
      "|   0   |   484 (9.99% of all)   |        137        |  0   | 0.790 ± 0.01 |\n",
      "| round | initially labeled data | number of queries | cost | Performance: |\n",
      "|   1   |   484 (9.99% of all)   |        137        |  0   | 0.786 ± 0.02 |\n",
      "| round | initially labeled data | number of queries | cost | Performance: |\n",
      "|   2   |   484 (9.99% of all)   |        137        |  0   | 0.794 ± 0.01 |\n",
      "| round | initially labeled data | number of queries | cost | Performance: |\n",
      "|   3   |   484 (9.99% of all)   |        137        |  0   | 0.787 ± 0.02 |\n",
      "| round | initially labeled data | number of queries | cost | Performance: |\n",
      "|   4   |   484 (9.99% of all)   |        137        |  0   | 0.794 ± 0.01 |\n",
      "| round | initially labeled data | number of queries | cost | Performance: |\n",
      "|   0   |   484 (9.99% of all)   |        137        |  0   | 0.812 ± 0.01 |\n",
      "| round | initially labeled data | number of queries | cost | Performance: |\n",
      "|   1   |   484 (9.99% of all)   |        137        |  0   | 0.814 ± 0.01 |\n",
      "| round | initially labeled data | number of queries | cost | Performance: |\n",
      "|   2   |   484 (9.99% of all)   |        137        |  0   | 0.817 ± 0.01 |\n",
      "| round | initially labeled data | number of queries | cost | Performance: |\n",
      "|   3   |   484 (9.99% of all)   |        137        |  0   | 0.808 ± 0.01 |\n",
      "| round | initially labeled data | number of queries | cost | Performance: |\n",
      "|   4   |   484 (9.99% of all)   |        137        |  0   | 0.812 ± 0.01 |\n",
      "| round | initially labeled data | number of queries | cost | Performance: |\n",
      "|   0   |   484 (9.99% of all)   |        137        |  0   | 0.825 ± 0.01 |\n",
      "| round | initially labeled data | number of queries | cost | Performance: |\n",
      "|   1   |   484 (9.99% of all)   |        137        |  0   | 0.824 ± 0.01 |\n",
      "| round | initially labeled data | number of queries | cost | Performance: |\n",
      "|   2   |   484 (9.99% of all)   |        137        |  0   | 0.832 ± 0.01 |\n",
      "| round | initially labeled data | number of queries | cost | Performance: |\n",
      "|   3   |   484 (9.99% of all)   |        137        |  0   | 0.817 ± 0.01 |\n",
      "| round | initially labeled data | number of queries | cost | Performance: |\n",
      "|   4   |   484 (9.99% of all)   |        137        |  0   | 0.828 ± 0.01 |\n",
      "| round | initially labeled data | number of queries | cost | Performance: |\n",
      "|   0   |   484 (9.99% of all)   |        137        |  0   | 0.829 ± 0.01 |\n",
      "| round | initially labeled data | number of queries | cost | Performance: |\n",
      "|   1   |   484 (9.99% of all)   |        137        |  0   | 0.830 ± 0.01 |\n",
      "| round | initially labeled data | number of queries | cost | Performance: |\n",
      "|   2   |   484 (9.99% of all)   |        137        |  0   | 0.833 ± 0.01 |\n",
      "| round | initially labeled data | number of queries | cost | Performance: |\n",
      "|   3   |   484 (9.99% of all)   |        137        |  0   | 0.827 ± 0.01 |\n",
      "| round | initially labeled data | number of queries | cost | Performance: |\n",
      "|   4   |   484 (9.99% of all)   |        137        |  0   | 0.831 ± 0.01 |\n",
      "| round | initially labeled data | number of queries | cost | Performance: |\n",
      "|   0   |   484 (9.99% of all)   |        137        |  0   | 0.835 ± 0.01 |\n",
      "| round | initially labeled data | number of queries | cost | Performance: |\n",
      "|   1   |   484 (9.99% of all)   |        137        |  0   | 0.841 ± 0.01 |\n",
      "| round | initially labeled data | number of queries | cost | Performance: |\n",
      "|   2   |   484 (9.99% of all)   |        137        |  0   | 0.842 ± 0.01 |\n",
      "| round | initially labeled data | number of queries | cost | Performance: |\n",
      "|   3   |   484 (9.99% of all)   |        137        |  0   | 0.830 ± 0.01 |\n",
      "| round | initially labeled data | number of queries | cost | Performance: |\n",
      "|   4   |   484 (9.99% of all)   |        137        |  0   | 0.834 ± 0.01 |\n",
      "| round | initially labeled data | number of queries | cost | Performance: |\n",
      "|   0   |   484 (9.99% of all)   |        137        |  0   | 0.790 ± 0.01 |\n",
      "| round | initially labeled data | number of queries | cost | Performance: |\n",
      "|   1   |   484 (9.99% of all)   |        137        |  0   | 0.789 ± 0.01 |\n",
      "| round | initially labeled data | number of queries | cost | Performance: |\n",
      "|   2   |   484 (9.99% of all)   |        137        |  0   | 0.794 ± 0.02 |\n",
      "| round | initially labeled data | number of queries | cost | Performance: |\n",
      "|   3   |   484 (9.99% of all)   |        137        |  0   | 0.790 ± 0.02 |\n",
      "| round | initially labeled data | number of queries | cost | Performance: |\n",
      "|   4   |   484 (9.99% of all)   |        137        |  0   | 0.790 ± 0.01 |\n",
      "| round | initially labeled data | number of queries | cost | Performance: |\n",
      "|   0   |   484 (9.99% of all)   |        137        |  0   | 0.805 ± 0.01 |\n",
      "| round | initially labeled data | number of queries | cost | Performance: |\n",
      "|   1   |   484 (9.99% of all)   |        137        |  0   | 0.815 ± 0.01 |\n",
      "| round | initially labeled data | number of queries | cost | Performance: |\n",
      "|   2   |   484 (9.99% of all)   |        137        |  0   | 0.811 ± 0.01 |\n",
      "| round | initially labeled data | number of queries | cost | Performance: |\n",
      "|   3   |   484 (9.99% of all)   |        137        |  0   | 0.802 ± 0.01 |\n",
      "| round | initially labeled data | number of queries | cost | Performance: |\n",
      "|   4   |   484 (9.99% of all)   |        137        |  0   | 0.814 ± 0.01 |"
     ]
    }
   ],
   "source": [
    "for i in range(len(CLS_layers)):\n",
    "\n",
    "    X=CLS_layers[i]\n",
    "    y=labels_np\n",
    "\n",
    "    alibox = ToolBox(X=X, y=y, query_type='AllLabels', saving_path='.')\n",
    "\n",
    "    # Split data\n",
    "    alibox.split_AL(test_ratio=0.3, initial_label_rate=0.1, split_count=10)\n",
    "\n",
    "    # Use the default Logistic Regression classifier\n",
    "    model = alibox.get_default_model()\n",
    "\n",
    "    # The cost budget is 50 times querying\n",
    "    stopping_criterion = alibox.get_stopping_criterion('num_of_queries', n_iteration)\n",
    "    \n",
    "\n",
    "    for round in range(5):\n",
    "        train_idx, test_idx, label_ind, unlab_ind = alibox.get_split(round)\n",
    "\n",
    "        # Use pre-defined strategy\n",
    "        unc = alibox.get_query_strategy(strategy_name=\"QueryInstanceUncertainty\")\n",
    "\n",
    "        unc_results[i].append(copy.deepcopy(main_loop(alibox, unc, round)))\n",
    "        "
   ]
  },
  {
   "cell_type": "code",
   "execution_count": 31,
   "metadata": {},
   "outputs": [
    {
     "name": "stdout",
     "output_type": "stream",
     "text": [
      "\n",
      "+----------------+-------------------+---------------------------+--------------+------------+\n",
      "|    Methods     | number_of_queries | number_of_different_split | performance  | batch_size |\n",
      "+----------------+-------------------+---------------------------+--------------+------------+\n",
      "|  Unc_Layer_12  |        137        |             5             | 0.836 ± 0.00 |     32     |\n",
      "|  Unc_Layer_11  |        137        |             5             | 0.830 ± 0.00 |     32     |\n",
      "|  Unc_Layer_10  |        137        |             5             | 0.825 ± 0.01 |     32     |\n",
      "|  Unc_Layer_9   |        137        |             5             | 0.812 ± 0.00 |     32     |\n",
      "|  Unc_Layer_8   |        137        |             5             | 0.790 ± 0.00 |     32     |\n",
      "|  Unc_Layer_7   |        137        |             5             | 0.772 ± 0.00 |     32     |\n",
      "|  Unc_Layer_6   |        137        |             5             | 0.782 ± 0.01 |     32     |\n",
      "|  Unc_Layer_5   |        137        |             5             | 0.762 ± 0.00 |     32     |\n",
      "|  Unc_Layer_4   |        137        |             5             | 0.755 ± 0.01 |     32     |\n",
      "|  Unc_Layer_3   |        137        |             5             | 0.743 ± 0.01 |     32     |\n",
      "|  Unc_Layer_2   |        137        |             5             | 0.737 ± 0.01 |     32     |\n",
      "|  Unc_Layer_1   |        137        |             5             | 0.718 ± 0.01 |     32     |\n",
      "| Unc_Layer_7-10 |        137        |             5             | 0.790 ± 0.00 |     32     |\n",
      "| Unc_Layer_9-12 |        137        |             5             | 0.809 ± 0.01 |     32     |\n",
      "+----------------+-------------------+---------------------------+--------------+------------+\n"
     ]
    },
    {
     "data": {
      "image/png": "[encoded data removed]",
      "text/plain": [
       "<Figure size 432x288 with 1 Axes>"
      ]
     },
     "metadata": {
      "needs_background": "light"
     },
     "output_type": "display_data"
    }
   ],
   "source": [
    "analyser = alibox.get_experiment_analyser(x_axis='num_of_queries')\n",
    "\n",
    "\n",
    "for i in range(len(unc_results)-2):\n",
    "    \n",
    "    # Iterationg results in reverse beacues 12th layer has the best performance and will stay at top\n",
    "    # On the plot we want to somehow corralete the layer and the plot\n",
    "    analyser.add_method(method_name='Unc_Layer_' + str(len(CLS_layers)-i-2), method_results=unc_results[len(CLS_layers)-i-3])        \n",
    "    \n",
    "analyser.add_method(method_name='Unc_Layer_7-10' , method_results=unc_results[12])\n",
    "analyser.add_method(method_name='Unc_Layer_9-12' , method_results=unc_results[13])\n",
    "    \n",
    "print(analyser)\n",
    "analyser.plot_learning_curves(title='Layer', std_area=False)"
   ]
  },
  {
   "cell_type": "code",
   "execution_count": 32,
   "metadata": {},
   "outputs": [
    {
     "name": "stdout",
     "output_type": "stream",
     "text": [
      "FOR 14 TRANSFORMER BLOCKS\n",
      "1200 Queries\n",
      "5 different train/test splits\n",
      "-----------------------------------------\n",
      "Average Runtime For one Transformer Block\n",
      "1.5538571782355761\n",
      "Maximum Runtime For one Query\n",
      "6.708127975463867\n",
      "Minimum Runtime For one Query\n",
      "0.07226181030273438\n",
      "Total Time\n",
      "14901.490339279175\n"
     ]
    }
   ],
   "source": [
    "avg_time = sum(total_time) / len(total_time)\n",
    "    \n",
    "print('FOR 14 TRANSFORMER BLOCKS' )\n",
    "print('1200 Queries')\n",
    "print('5 different train/test splits')\n",
    "print(\"-----------------------------------------\")\n",
    "print(\"Average Runtime For one Transformer Block\")\n",
    "print(avg_time)\n",
    "               \n",
    "print(\"Maximum Runtime For one Query\")\n",
    "print(max(total_time))\n",
    "               \n",
    "print(\"Minimum Runtime For one Query\")\n",
    "print(min(total_time))\n",
    "\n",
    "print(\"Total Time\")\n",
    "print(sum(total_time))"
   ]
  },
  {
   "cell_type": "code",
   "execution_count": 33,
   "metadata": {},
   "outputs": [
    {
     "data": {
      "image/png": "[encoded data removed]",
      "text/plain": [
       "<Figure size 432x288 with 1 Axes>"
      ]
     },
     "metadata": {
      "needs_background": "light"
     },
     "output_type": "display_data"
    }
   ],
   "source": [
    "import matplotlib.pyplot as plt\n",
    "\n",
    "plt.plot(total_time)\n",
    "plt.ylabel('Time in Seconds')\n",
    "plt.xlabel('Query Instances')\n",
    "plt.show()"
   ]
  }
 ],
 "metadata": {
  "colab": {
   "include_colab_link": true,
   "machine_shape": "hm",
   "name": "A Visual Notebook to Using BERT for the First Time.ipynb",
   "provenance": []
  },
  "kernelspec": {
   "display_name": "Python 3 (ipykernel)",
   "language": "python",
   "name": "python3"
  },
  "language_info": {
   "codemirror_mode": {
    "name": "ipython",
    "version": 3
   },
   "file_extension": ".py",
   "mimetype": "text/x-python",
   "name": "python",
   "nbconvert_exporter": "python",
   "pygments_lexer": "ipython3",
   "version": "3.8.12"
  }
 },
 "nbformat": 4,
 "nbformat_minor": 1
}
