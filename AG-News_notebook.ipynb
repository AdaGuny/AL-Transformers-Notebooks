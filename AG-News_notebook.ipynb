{
 "cells": [
  {
   "cell_type": "code",
   "execution_count": 1,
   "metadata": {
    "scrolled": false
   },
   "outputs": [],
   "source": [
    "#!pip install beautifulsoup4"
   ]
  },
  {
   "cell_type": "code",
   "execution_count": 2,
   "metadata": {
    "colab": {
     "base_uri": "https://localhost:8080/",
     "height": 63
    },
    "colab_type": "code",
    "id": "fvFvBLJV0Dkv",
    "outputId": "140119e5-4cee-4604-c0d2-be279c18b125"
   },
   "outputs": [],
   "source": [
    "import numpy as np\n",
    "import pandas as pd\n",
    "from sklearn.model_selection import train_test_split\n",
    "from sklearn.linear_model import LogisticRegression\n",
    "from sklearn.model_selection import GridSearchCV\n",
    "from sklearn.model_selection import cross_val_score\n",
    "from sklearn import metrics\n",
    "from sklearn.ensemble import RandomForestClassifier\n",
    "import torch\n",
    "import transformers as ppb\n",
    "import warnings\n",
    "warnings.filterwarnings('ignore')\n",
    "import tensorflow as tf\n",
    "import time\n",
    "import copy\n",
    "from sklearn.datasets import make_classification\n",
    "from alipy import ToolBox\n",
    "from bs4 import BeautifulSoup\n",
    "import re"
   ]
  },
  {
   "cell_type": "code",
   "execution_count": 3,
   "metadata": {
    "scrolled": true
   },
   "outputs": [
    {
     "name": "stderr",
     "output_type": "stream",
     "text": [
      "2022-03-09 09:05:04.203003: I tensorflow/core/platform/cpu_feature_guard.cc:151] This TensorFlow binary is optimized with oneAPI Deep Neural Network Library (oneDNN) to use the following CPU instructions in performance-critical operations:  AVX2 AVX512F FMA\n",
      "To enable them in other operations, rebuild TensorFlow with the appropriate compiler flags.\n"
     ]
    },
    {
     "data": {
      "text/plain": [
       "'/device:GPU:0'"
      ]
     },
     "execution_count": 3,
     "metadata": {},
     "output_type": "execute_result"
    },
    {
     "name": "stderr",
     "output_type": "stream",
     "text": [
      "2022-03-09 09:05:05.249327: I tensorflow/core/common_runtime/gpu/gpu_device.cc:1525] Created device /device:GPU:0 with 47221 MB memory:  -> device: 0, name: Quadro RTX 8000, pci bus id: 0000:3b:00.0, compute capability: 7.5\n",
      "2022-03-09 09:05:05.249991: I tensorflow/core/common_runtime/gpu/gpu_device.cc:1525] Created device /device:GPU:1 with 47221 MB memory:  -> device: 1, name: Quadro RTX 8000, pci bus id: 0000:d8:00.0, compute capability: 7.5\n"
     ]
    }
   ],
   "source": [
    "# Check Gpu\n",
    "tf.test.gpu_device_name()"
   ]
  },
  {
   "cell_type": "code",
   "execution_count": 4,
   "metadata": {
    "colab": {},
    "colab_type": "code",
    "id": "cyoj29J24hPX"
   },
   "outputs": [
    {
     "data": {
      "text/html": [
       "<div>\n",
       "<style scoped>\n",
       "    .dataframe tbody tr th:only-of-type {\n",
       "        vertical-align: middle;\n",
       "    }\n",
       "\n",
       "    .dataframe tbody tr th {\n",
       "        vertical-align: top;\n",
       "    }\n",
       "\n",
       "    .dataframe thead th {\n",
       "        text-align: right;\n",
       "    }\n",
       "</style>\n",
       "<table border=\"1\" class=\"dataframe\">\n",
       "  <thead>\n",
       "    <tr style=\"text-align: right;\">\n",
       "      <th></th>\n",
       "      <th>Class Index</th>\n",
       "      <th>Title</th>\n",
       "      <th>Description</th>\n",
       "    </tr>\n",
       "  </thead>\n",
       "  <tbody>\n",
       "    <tr>\n",
       "      <th>0</th>\n",
       "      <td>3</td>\n",
       "      <td>Wall St. Bears Claw Back Into the Black (Reuters)</td>\n",
       "      <td>Reuters - Short-sellers, Wall Street's dwindli...</td>\n",
       "    </tr>\n",
       "    <tr>\n",
       "      <th>1</th>\n",
       "      <td>3</td>\n",
       "      <td>Carlyle Looks Toward Commercial Aerospace (Reu...</td>\n",
       "      <td>Reuters - Private investment firm Carlyle Grou...</td>\n",
       "    </tr>\n",
       "    <tr>\n",
       "      <th>2</th>\n",
       "      <td>3</td>\n",
       "      <td>Oil and Economy Cloud Stocks' Outlook (Reuters)</td>\n",
       "      <td>Reuters - Soaring crude prices plus worries\\ab...</td>\n",
       "    </tr>\n",
       "    <tr>\n",
       "      <th>3</th>\n",
       "      <td>3</td>\n",
       "      <td>Iraq Halts Oil Exports from Main Southern Pipe...</td>\n",
       "      <td>Reuters - Authorities have halted oil export\\f...</td>\n",
       "    </tr>\n",
       "    <tr>\n",
       "      <th>4</th>\n",
       "      <td>3</td>\n",
       "      <td>Oil prices soar to all-time record, posing new...</td>\n",
       "      <td>AFP - Tearaway world oil prices, toppling reco...</td>\n",
       "    </tr>\n",
       "    <tr>\n",
       "      <th>...</th>\n",
       "      <td>...</td>\n",
       "      <td>...</td>\n",
       "      <td>...</td>\n",
       "    </tr>\n",
       "    <tr>\n",
       "      <th>6995</th>\n",
       "      <td>3</td>\n",
       "      <td>Oil raises economists #39; concerns</td>\n",
       "      <td>WASHINGTON - Crude oil prices soaring to nearl...</td>\n",
       "    </tr>\n",
       "    <tr>\n",
       "      <th>6996</th>\n",
       "      <td>4</td>\n",
       "      <td>Advanced Model of World #39;s Smallest Flying ...</td>\n",
       "      <td>Epson has long been engaged in the research an...</td>\n",
       "    </tr>\n",
       "    <tr>\n",
       "      <th>6997</th>\n",
       "      <td>4</td>\n",
       "      <td>Which Candidates Do Tech Companies Support?</td>\n",
       "      <td>In a down year for tech industry contributions...</td>\n",
       "    </tr>\n",
       "    <tr>\n",
       "      <th>6998</th>\n",
       "      <td>2</td>\n",
       "      <td>Moore battles back to top List at US amateur c...</td>\n",
       "      <td>Ryan Moore staged a remarkable comeback to ove...</td>\n",
       "    </tr>\n",
       "    <tr>\n",
       "      <th>6999</th>\n",
       "      <td>3</td>\n",
       "      <td>CMS Energy to Offer \\$200 Million Notes</td>\n",
       "      <td>CMS Energy Corp., the holding company for util...</td>\n",
       "    </tr>\n",
       "  </tbody>\n",
       "</table>\n",
       "<p>7000 rows × 3 columns</p>\n",
       "</div>"
      ],
      "text/plain": [
       "      Class Index                                              Title  \\\n",
       "0               3  Wall St. Bears Claw Back Into the Black (Reuters)   \n",
       "1               3  Carlyle Looks Toward Commercial Aerospace (Reu...   \n",
       "2               3    Oil and Economy Cloud Stocks' Outlook (Reuters)   \n",
       "3               3  Iraq Halts Oil Exports from Main Southern Pipe...   \n",
       "4               3  Oil prices soar to all-time record, posing new...   \n",
       "...           ...                                                ...   \n",
       "6995            3                Oil raises economists #39; concerns   \n",
       "6996            4  Advanced Model of World #39;s Smallest Flying ...   \n",
       "6997            4        Which Candidates Do Tech Companies Support?   \n",
       "6998            2  Moore battles back to top List at US amateur c...   \n",
       "6999            3            CMS Energy to Offer \\$200 Million Notes   \n",
       "\n",
       "                                            Description  \n",
       "0     Reuters - Short-sellers, Wall Street's dwindli...  \n",
       "1     Reuters - Private investment firm Carlyle Grou...  \n",
       "2     Reuters - Soaring crude prices plus worries\\ab...  \n",
       "3     Reuters - Authorities have halted oil export\\f...  \n",
       "4     AFP - Tearaway world oil prices, toppling reco...  \n",
       "...                                                 ...  \n",
       "6995  WASHINGTON - Crude oil prices soaring to nearl...  \n",
       "6996  Epson has long been engaged in the research an...  \n",
       "6997  In a down year for tech industry contributions...  \n",
       "6998  Ryan Moore staged a remarkable comeback to ove...  \n",
       "6999  CMS Energy Corp., the holding company for util...  \n",
       "\n",
       "[7000 rows x 3 columns]"
      ]
     },
     "execution_count": 4,
     "metadata": {},
     "output_type": "execute_result"
    }
   ],
   "source": [
    "# Import the Dataset\n",
    "#df = pd.read_csv('data/train.csv', nrows=10000)\n",
    "\n",
    "df = pd.read_csv('data/train.csv', nrows=7000)\n",
    "df"
   ]
  },
  {
   "cell_type": "code",
   "execution_count": 5,
   "metadata": {},
   "outputs": [
    {
     "name": "stdout",
     "output_type": "stream",
     "text": [
      "(7000, 3)\n"
     ]
    }
   ],
   "source": [
    "print(df.shape)"
   ]
  },
  {
   "cell_type": "code",
   "execution_count": 6,
   "metadata": {
    "colab": {},
    "colab_type": "code",
    "id": "gTM3hOHW4hUY",
    "scrolled": true
   },
   "outputs": [
    {
     "data": {
      "text/plain": [
       "1    1861\n",
       "4    1820\n",
       "2    1683\n",
       "3    1636\n",
       "Name: Class Index, dtype: int64"
      ]
     },
     "execution_count": 6,
     "metadata": {},
     "output_type": "execute_result"
    }
   ],
   "source": [
    "# Limit dataframe to work faster\n",
    "#df = df[:500]\n",
    "df['Class Index'].value_counts()"
   ]
  },
  {
   "cell_type": "code",
   "execution_count": 7,
   "metadata": {},
   "outputs": [
    {
     "data": {
      "text/html": [
       "<div>\n",
       "<style scoped>\n",
       "    .dataframe tbody tr th:only-of-type {\n",
       "        vertical-align: middle;\n",
       "    }\n",
       "\n",
       "    .dataframe tbody tr th {\n",
       "        vertical-align: top;\n",
       "    }\n",
       "\n",
       "    .dataframe thead th {\n",
       "        text-align: right;\n",
       "    }\n",
       "</style>\n",
       "<table border=\"1\" class=\"dataframe\">\n",
       "  <thead>\n",
       "    <tr style=\"text-align: right;\">\n",
       "      <th></th>\n",
       "      <th>Class Index</th>\n",
       "      <th>Content</th>\n",
       "    </tr>\n",
       "  </thead>\n",
       "  <tbody>\n",
       "    <tr>\n",
       "      <th>0</th>\n",
       "      <td>2</td>\n",
       "      <td>Wall St. Bears Claw Back Into the Black (Reute...</td>\n",
       "    </tr>\n",
       "    <tr>\n",
       "      <th>1</th>\n",
       "      <td>2</td>\n",
       "      <td>Carlyle Looks Toward Commercial Aerospace (Reu...</td>\n",
       "    </tr>\n",
       "    <tr>\n",
       "      <th>2</th>\n",
       "      <td>2</td>\n",
       "      <td>Oil and Economy Cloud Stocks' Outlook (Reuters...</td>\n",
       "    </tr>\n",
       "    <tr>\n",
       "      <th>3</th>\n",
       "      <td>2</td>\n",
       "      <td>Iraq Halts Oil Exports from Main Southern Pipe...</td>\n",
       "    </tr>\n",
       "    <tr>\n",
       "      <th>4</th>\n",
       "      <td>2</td>\n",
       "      <td>Oil prices soar to all-time record, posing new...</td>\n",
       "    </tr>\n",
       "    <tr>\n",
       "      <th>...</th>\n",
       "      <td>...</td>\n",
       "      <td>...</td>\n",
       "    </tr>\n",
       "    <tr>\n",
       "      <th>6995</th>\n",
       "      <td>2</td>\n",
       "      <td>Oil raises economists #39; concerns WASHINGTON...</td>\n",
       "    </tr>\n",
       "    <tr>\n",
       "      <th>6996</th>\n",
       "      <td>3</td>\n",
       "      <td>Advanced Model of World #39;s Smallest Flying ...</td>\n",
       "    </tr>\n",
       "    <tr>\n",
       "      <th>6997</th>\n",
       "      <td>3</td>\n",
       "      <td>Which Candidates Do Tech Companies Support? In...</td>\n",
       "    </tr>\n",
       "    <tr>\n",
       "      <th>6998</th>\n",
       "      <td>1</td>\n",
       "      <td>Moore battles back to top List at US amateur c...</td>\n",
       "    </tr>\n",
       "    <tr>\n",
       "      <th>6999</th>\n",
       "      <td>2</td>\n",
       "      <td>CMS Energy to Offer \\$200 Million Notes CMS En...</td>\n",
       "    </tr>\n",
       "  </tbody>\n",
       "</table>\n",
       "<p>7000 rows × 2 columns</p>\n",
       "</div>"
      ],
      "text/plain": [
       "      Class Index                                            Content\n",
       "0               2  Wall St. Bears Claw Back Into the Black (Reute...\n",
       "1               2  Carlyle Looks Toward Commercial Aerospace (Reu...\n",
       "2               2  Oil and Economy Cloud Stocks' Outlook (Reuters...\n",
       "3               2  Iraq Halts Oil Exports from Main Southern Pipe...\n",
       "4               2  Oil prices soar to all-time record, posing new...\n",
       "...           ...                                                ...\n",
       "6995            2  Oil raises economists #39; concerns WASHINGTON...\n",
       "6996            3  Advanced Model of World #39;s Smallest Flying ...\n",
       "6997            3  Which Candidates Do Tech Companies Support? In...\n",
       "6998            1  Moore battles back to top List at US amateur c...\n",
       "6999            2  CMS Energy to Offer \\$200 Million Notes CMS En...\n",
       "\n",
       "[7000 rows x 2 columns]"
      ]
     },
     "execution_count": 7,
     "metadata": {},
     "output_type": "execute_result"
    }
   ],
   "source": [
    "df.dropna()\n",
    "\n",
    "# Combine title and description (better accuracy than using them as separate features)\n",
    "df['Content'] = df['Title'] + \" \" + df['Description']\n",
    "\n",
    "# Drop both of the columns because meaningfull data is in Content columns\n",
    "df = df.drop(['Title', 'Description'], axis=1)\n",
    "\n",
    "# Class labels need to begin from 0 \n",
    "df ['Class Index'] = df['Class Index'].apply(lambda x: x-1).values \n",
    "\n",
    "df"
   ]
  },
  {
   "cell_type": "code",
   "execution_count": 8,
   "metadata": {
    "scrolled": true
   },
   "outputs": [
    {
     "data": {
      "text/plain": [
       "0    1861\n",
       "3    1820\n",
       "1    1683\n",
       "2    1636\n",
       "Name: Class Index, dtype: int64"
      ]
     },
     "execution_count": 8,
     "metadata": {},
     "output_type": "execute_result"
    }
   ],
   "source": [
    "#df['sentiment'] = df.astype(int)\n",
    "df['Class Index'].value_counts()"
   ]
  },
  {
   "cell_type": "code",
   "execution_count": 9,
   "metadata": {
    "scrolled": true
   },
   "outputs": [
    {
     "data": {
      "text/plain": [
       "0       Wall St. Bears Claw Back Into the Black (Reute...\n",
       "1       Carlyle Looks Toward Commercial Aerospace (Reu...\n",
       "2       Oil and Economy Cloud Stocks' Outlook (Reuters...\n",
       "3       Iraq Halts Oil Exports from Main Southern Pipe...\n",
       "4       Oil prices soar to all-time record, posing new...\n",
       "                              ...                        \n",
       "6995    Oil raises economists #39; concerns WASHINGTON...\n",
       "6996    Advanced Model of World #39;s Smallest Flying ...\n",
       "6997    Which Candidates Do Tech Companies Support? In...\n",
       "6998    Moore battles back to top List at US amateur c...\n",
       "6999    CMS Energy to Offer \\$200 Million Notes CMS En...\n",
       "Name: Content, Length: 7000, dtype: object"
      ]
     },
     "execution_count": 9,
     "metadata": {},
     "output_type": "execute_result"
    }
   ],
   "source": [
    "df['Content']"
   ]
  },
  {
   "cell_type": "code",
   "execution_count": 10,
   "metadata": {
    "colab": {},
    "colab_type": "code",
    "id": "Dg82ndBA5xlN"
   },
   "outputs": [],
   "source": [
    "# Our first step is to tokenize the sentences -- break them up into word and subwords in the format BERT is comfortable with.\n",
    "\n",
    "# Create Bert tokenizer class\n",
    "tokenizer_class = ppb.BertTokenizer\n",
    "\n",
    "# Save the weights for uncased Bert \n",
    "pretrained_weights = 'bert-base-cased'\n",
    "\n",
    "# Create a tokenizer from tokenizer class\n",
    "tokenizer = tokenizer_class.from_pretrained(pretrained_weights)\n",
    "\n",
    "# Tokenize all of the sentences \n",
    "tokenized = df['Content'].apply((lambda x: tokenizer.encode(x, add_special_tokens=True, max_length=512, truncation=True)))"
   ]
  },
  {
   "cell_type": "code",
   "execution_count": 11,
   "metadata": {
    "scrolled": true
   },
   "outputs": [
    {
     "data": {
      "text/plain": [
       "45"
      ]
     },
     "execution_count": 11,
     "metadata": {},
     "output_type": "execute_result"
    }
   ],
   "source": [
    "len(tokenized[0])"
   ]
  },
  {
   "cell_type": "code",
   "execution_count": 12,
   "metadata": {},
   "outputs": [
    {
     "data": {
      "text/plain": [
       "(7000,)"
      ]
     },
     "execution_count": 12,
     "metadata": {},
     "output_type": "execute_result"
    }
   ],
   "source": [
    "tokenized.shape"
   ]
  },
  {
   "cell_type": "code",
   "execution_count": 13,
   "metadata": {
    "colab": {},
    "colab_type": "code",
    "id": "URn-DWJt5xhP"
   },
   "outputs": [
    {
     "data": {
      "text/plain": [
       "array([[  101,  6250,  1457, ...,     0,     0,     0],\n",
       "       [  101, 19879,  1513, ...,     0,     0,     0],\n",
       "       [  101,  9105,  1105, ...,     0,     0,     0],\n",
       "       ...,\n",
       "       [  101,  5979,  2825, ...,     0,     0,     0],\n",
       "       [  101,  4673,  7619, ...,     0,     0,     0],\n",
       "       [  101,   140,  7182, ...,     0,     0,     0]])"
      ]
     },
     "execution_count": 13,
     "metadata": {},
     "output_type": "execute_result"
    }
   ],
   "source": [
    "# Add padding to all of the sentences so that they have the same size\n",
    "# So the input can be represented as a 2d array\n",
    "# Important for performance\n",
    "\n",
    "max_len = 0\n",
    "for i in tokenized.values:\n",
    "    if len(i) > max_len:\n",
    "        max_len = len(i)\n",
    "\n",
    "padded = np.array([i + [0]*(max_len-len(i)) for i in tokenized.values])\n",
    "\n",
    "padded"
   ]
  },
  {
   "cell_type": "code",
   "execution_count": 14,
   "metadata": {
    "colab": {
     "base_uri": "https://localhost:8080/",
     "height": 34
    },
    "colab_type": "code",
    "id": "jdi7uXo95xeq",
    "outputId": "be786022-e84f-4e28-8531-0143af2347bc"
   },
   "outputs": [
    {
     "data": {
      "text/plain": [
       "(7000, 384)"
      ]
     },
     "execution_count": 14,
     "metadata": {},
     "output_type": "execute_result"
    }
   ],
   "source": [
    "np.array(padded).shape"
   ]
  },
  {
   "cell_type": "code",
   "execution_count": 15,
   "metadata": {
    "colab": {
     "base_uri": "https://localhost:8080/",
     "height": 34
    },
    "colab_type": "code",
    "id": "4K_iGRNa_Ozc",
    "outputId": "d03b0a9b-1f6e-4e32-831e-b04f5389e57c"
   },
   "outputs": [
    {
     "data": {
      "text/plain": [
       "array([[1, 1, 1, ..., 0, 0, 0],\n",
       "       [1, 1, 1, ..., 0, 0, 0],\n",
       "       [1, 1, 1, ..., 0, 0, 0],\n",
       "       ...,\n",
       "       [1, 1, 1, ..., 0, 0, 0],\n",
       "       [1, 1, 1, ..., 0, 0, 0],\n",
       "       [1, 1, 1, ..., 0, 0, 0]])"
      ]
     },
     "execution_count": 15,
     "metadata": {},
     "output_type": "execute_result"
    }
   ],
   "source": [
    "# Attention mask is created to mask the padded values\n",
    "attention_mask = np.where(padded != 0, 1, 0)\n",
    "attention_mask"
   ]
  },
  {
   "cell_type": "code",
   "execution_count": 16,
   "metadata": {
    "scrolled": true
   },
   "outputs": [
    {
     "data": {
      "text/plain": [
       "(7000, 384)"
      ]
     },
     "execution_count": 16,
     "metadata": {},
     "output_type": "execute_result"
    }
   ],
   "source": [
    "attention_mask.shape"
   ]
  },
  {
   "cell_type": "code",
   "execution_count": 17,
   "metadata": {
    "colab": {
     "base_uri": "https://localhost:8080/",
     "height": 68
    },
    "colab_type": "code",
    "id": "q1InADgf5xm2",
    "outputId": "dbc52856-4d52-42f8-8a74-a89944280a02"
   },
   "outputs": [
    {
     "name": "stderr",
     "output_type": "stream",
     "text": [
      "Some weights of the model checkpoint at bert-base-cased were not used when initializing BertModel: ['cls.seq_relationship.bias', 'cls.seq_relationship.weight', 'cls.predictions.decoder.weight', 'cls.predictions.bias', 'cls.predictions.transform.dense.bias', 'cls.predictions.transform.LayerNorm.weight', 'cls.predictions.transform.dense.weight', 'cls.predictions.transform.LayerNorm.bias']\n",
      "- This IS expected if you are initializing BertModel from the checkpoint of a model trained on another task or with another architecture (e.g. initializing a BertForSequenceClassification model from a BertForPreTraining model).\n",
      "- This IS NOT expected if you are initializing BertModel from the checkpoint of a model that you expect to be exactly identical (initializing a BertForSequenceClassification model from a BertForSequenceClassification model).\n"
     ]
    }
   ],
   "source": [
    "# For DistilBERT:\n",
    "\n",
    "# Create config just in case \n",
    "config = ppb.BertConfig(output_hidden_states=True)\n",
    "model_class = ppb.BertModel(config=config)\n",
    "\n",
    "# Load pretrained model/tokenizer\n",
    "model = model_class.from_pretrained(pretrained_weights)\n"
   ]
  },
  {
   "cell_type": "code",
   "execution_count": 18,
   "metadata": {},
   "outputs": [
    {
     "data": {
      "text/plain": [
       "BertConfig {\n",
       "  \"_name_or_path\": \"bert-base-cased\",\n",
       "  \"architectures\": [\n",
       "    \"BertForMaskedLM\"\n",
       "  ],\n",
       "  \"attention_probs_dropout_prob\": 0.1,\n",
       "  \"classifier_dropout\": null,\n",
       "  \"gradient_checkpointing\": false,\n",
       "  \"hidden_act\": \"gelu\",\n",
       "  \"hidden_dropout_prob\": 0.1,\n",
       "  \"hidden_size\": 768,\n",
       "  \"initializer_range\": 0.02,\n",
       "  \"intermediate_size\": 3072,\n",
       "  \"layer_norm_eps\": 1e-12,\n",
       "  \"max_position_embeddings\": 512,\n",
       "  \"model_type\": \"bert\",\n",
       "  \"num_attention_heads\": 12,\n",
       "  \"num_hidden_layers\": 12,\n",
       "  \"pad_token_id\": 0,\n",
       "  \"position_embedding_type\": \"absolute\",\n",
       "  \"transformers_version\": \"4.16.2\",\n",
       "  \"type_vocab_size\": 2,\n",
       "  \"use_cache\": true,\n",
       "  \"vocab_size\": 28996\n",
       "}"
      ]
     },
     "execution_count": 18,
     "metadata": {},
     "output_type": "execute_result"
    }
   ],
   "source": [
    "# Check model config \n",
    "model.config"
   ]
  },
  {
   "cell_type": "code",
   "execution_count": 19,
   "metadata": {
    "colab": {},
    "colab_type": "code",
    "id": "39UVjAV56PJz"
   },
   "outputs": [],
   "source": [
    "# Transform padded to a tensor \n",
    "input_ids = torch.tensor(padded)  \n",
    "\n",
    "# Transfer mask to a tensor \n",
    "attention_mask = torch.tensor(attention_mask)\n",
    "\n",
    "# Run the sentences through BERT save the states of each layer to hidden_states\n",
    "with torch.no_grad():    \n",
    "    outputs = model(input_ids, attention_mask=attention_mask, output_hidden_states=True)"
   ]
  },
  {
   "cell_type": "code",
   "execution_count": 20,
   "metadata": {},
   "outputs": [
    {
     "data": {
      "text/plain": [
       "3"
      ]
     },
     "execution_count": 20,
     "metadata": {},
     "output_type": "execute_result"
    }
   ],
   "source": [
    "len(outputs)"
   ]
  },
  {
   "cell_type": "code",
   "execution_count": 21,
   "metadata": {
    "scrolled": false
   },
   "outputs": [],
   "source": [
    "#outputs[2] gets all of the 12 layers\n",
    "\n",
    "hidden_states = outputs[2]"
   ]
  },
  {
   "cell_type": "code",
   "execution_count": 22,
   "metadata": {},
   "outputs": [
    {
     "data": {
      "text/plain": [
       "13"
      ]
     },
     "execution_count": 22,
     "metadata": {},
     "output_type": "execute_result"
    }
   ],
   "source": [
    "len(hidden_states)"
   ]
  },
  {
   "cell_type": "code",
   "execution_count": 23,
   "metadata": {},
   "outputs": [],
   "source": [
    "embedding_output = hidden_states[0]\n",
    "\n",
    "layer_1 = hidden_states[1]\n",
    "layer_2 = hidden_states[2]\n",
    "layer_3 = hidden_states[3]\n",
    "layer_4 = hidden_states[4]\n",
    "layer_5 = hidden_states[5]\n",
    "layer_6 = hidden_states[6]\n",
    "layer_7 = hidden_states[7]\n",
    "layer_8 = hidden_states[8]\n",
    "layer_9 = hidden_states[9]\n",
    "layer_10 = hidden_states[10]\n",
    "layer_11 = hidden_states[11]\n",
    "layer_12 = hidden_states[12]"
   ]
  },
  {
   "cell_type": "code",
   "execution_count": 24,
   "metadata": {},
   "outputs": [
    {
     "data": {
      "text/plain": [
       "torch.Size([7000, 384, 768])"
      ]
     },
     "execution_count": 24,
     "metadata": {},
     "output_type": "execute_result"
    }
   ],
   "source": [
    "layer_12.shape"
   ]
  },
  {
   "cell_type": "code",
   "execution_count": 25,
   "metadata": {
    "colab": {},
    "colab_type": "code",
    "id": "C9t60At16PVs"
   },
   "outputs": [
    {
     "data": {
      "text/plain": [
       "(7000,)"
      ]
     },
     "execution_count": 25,
     "metadata": {},
     "output_type": "execute_result"
    }
   ],
   "source": [
    "# Let's slice only the part of the output that we need. That is the output corresponding the first token of each sentence. \n",
    "# The way BERT does sentence classification, is that it adds a token called [CLS] (for classification) at the beginning of every sentence. \n",
    "# The output corresponding to that token can be thought of as an embedding for the entire sentence.\n",
    "# We'll save those in the features variable, as they'll serve as the features to our random forest classifier.\n",
    "\n",
    "features_1 = layer_1[:,0,:].numpy()\n",
    "features_2 = layer_2[:,0,:].numpy()\n",
    "features_3 = layer_3[:,0,:].numpy()\n",
    "features_4 = layer_4[:,0,:].numpy()\n",
    "features_5 = layer_5[:,0,:].numpy()\n",
    "features_6 = layer_6[:,0,:].numpy()\n",
    "features_7 = layer_7[:,0,:].numpy()\n",
    "features_8 = layer_8[:,0,:].numpy()\n",
    "features_9 = layer_9[:,0,:].numpy()\n",
    "features_10 = layer_10[:,0,:].numpy()\n",
    "features_11 = layer_11[:,0,:].numpy()\n",
    "features_12 = layer_12[:,0,:].numpy()\n",
    "\n",
    "labels = df['Class Index']\n",
    "labels_np = labels.to_numpy()\n",
    "\n",
    "labels_np.shape"
   ]
  },
  {
   "cell_type": "code",
   "execution_count": 26,
   "metadata": {},
   "outputs": [],
   "source": [
    "#Do active learning with y_confidence values but how?\n",
    "\n",
    "#!pip install alipy\n",
    "\n",
    "total_time = []"
   ]
  },
  {
   "cell_type": "code",
   "execution_count": 27,
   "metadata": {},
   "outputs": [],
   "source": [
    "# Define active learning loop using ALiPy\n",
    "# Check http://parnec.nuaa.edu.cn/_upload/tpl/02/db/731/template731/pages/huangsj/alipy/example.html#collapseOne\n",
    "\n",
    "def main_loop(alibox, strategy, round):\n",
    "        # Get the data split of one fold experiment\n",
    "        train_idx, test_idx, label_ind, unlab_ind = alibox.get_split(round)\n",
    "        # Get intermediate results saver for one fold experiment\n",
    "        saver = alibox.get_stateio(round, saving_path=f\"./{strategy.__class__.__name__}_{round}.pkl\")\n",
    "\n",
    "        # Set initial performance point\n",
    "        model.fit(X=X[label_ind.index, :], y=y[label_ind.index])\n",
    "        pred = model.predict(X[test_idx, :])\n",
    "        accuracy = alibox.calc_performance_metric(y_true=y[test_idx],\n",
    "                                                  y_pred=pred,\n",
    "                                                  performance_metric='accuracy_score')\n",
    "        saver.set_initial_point(accuracy)\n",
    "\n",
    "        # If the stopping criterion is simple, such as query 50 times. Use `for i in range(50):` is ok.\n",
    "        while not stopping_criterion.is_stop():\n",
    "            # Select a subset of Uind according to the query strategy\n",
    "            # Passing model=None to use the default model for evaluating the committees' disagreement\n",
    "            # Set batch size 2\n",
    "            select_ind = strategy.select(label_index=label_ind, unlabel_index=unlab_ind, batch_size=32, model=model)\n",
    "            label_ind.update(select_ind)\n",
    "            unlab_ind.difference_update(select_ind)\n",
    "            \n",
    "            \n",
    "            start = time.time()\n",
    "            # Update model and calc performance according to the model you are using\n",
    "            model.fit(X=X[label_ind.index, :], y=y[label_ind.index])\n",
    "            end = time.time()\n",
    "            \n",
    "            iteration_time = end-start\n",
    "            total_time.append(iteration_time)\n",
    "            \n",
    "            pred = model.predict(X[test_idx, :])\n",
    "            accuracy = alibox.calc_performance_metric(y_true=y[test_idx],\n",
    "                                                      y_pred=pred,\n",
    "                                                      performance_metric='accuracy_score')\n",
    "\n",
    "            # Save intermediate results to file\n",
    "            st = alibox.State(select_index=select_ind, performance=accuracy)\n",
    "            saver.add_state(st)\n",
    "            saver.save()\n",
    "\n",
    "            # Passing the current progress to stopping criterion object\n",
    "            stopping_criterion.update_information(saver)\n",
    "        # Reset the progress in stopping criterion object\n",
    "        stopping_criterion.reset()\n",
    "        return saver"
   ]
  },
  {
   "cell_type": "code",
   "execution_count": 28,
   "metadata": {},
   "outputs": [],
   "source": [
    "# Define some stuff for AL loop\n",
    "\n",
    "n_iteration = 1200 \n"
   ]
  },
  {
   "cell_type": "code",
   "execution_count": 29,
   "metadata": {
    "scrolled": true
   },
   "outputs": [],
   "source": [
    "# Create holders for uncertantiy sampling results for each different layer\n",
    "\n",
    "unc_result_1 = []\n",
    "unc_result_2 = []\n",
    "unc_result_3 = []\n",
    "unc_result_4 = []\n",
    "unc_result_5 = []\n",
    "unc_result_6 = []\n",
    "unc_result_7 = []\n",
    "unc_result_8 = []\n",
    "unc_result_9 = []\n",
    "unc_result_10 = []\n",
    "unc_result_11 = []\n",
    "unc_result_12 = []\n",
    "\n",
    "unc_result_add_last_4 = []\n",
    "unc_result_cct_last_4 = []\n",
    "\n",
    "\n",
    "unc_results = (unc_result_1, unc_result_2, unc_result_3, unc_result_4, unc_result_5, unc_result_6,\n",
    "                unc_result_7, unc_result_8, unc_result_9, unc_result_10, unc_result_11, unc_result_12,\n",
    "                unc_result_add_last_4, unc_result_cct_last_4)"
   ]
  },
  {
   "cell_type": "code",
   "execution_count": 30,
   "metadata": {},
   "outputs": [],
   "source": [
    "# Save the CLS values in a list to iterate them on the model\n",
    "CLS_layers = ()"
   ]
  },
  {
   "cell_type": "code",
   "execution_count": 31,
   "metadata": {},
   "outputs": [],
   "source": [
    "# get layer combinations for addition\n",
    "\n",
    "add_5_6 = np.add(features_5, features_6)\n",
    "add_7_8 = np.add(features_7, features_8)\n",
    "add_9_10 = np.add(features_9, features_10)\n",
    "add_11_12 = np.add(features_11, features_12)\n",
    "\n",
    "\n",
    "add_9_12 = np.add(add_9_10, add_11_12)\n",
    "\n",
    "add_7_10 = np.add(add_7_8, add_9_10)\n",
    "\n",
    "add_5_8 = np.add(add_5_6, add_7_8)\n",
    "\n"
   ]
  },
  {
   "cell_type": "code",
   "execution_count": 32,
   "metadata": {},
   "outputs": [],
   "source": [
    "CLS_layers = (features_1, features_2, features_3, features_4, features_5, features_6, features_7,\n",
    "                features_8, features_9, features_10, features_11, features_12, add_7_10, add_9_12)"
   ]
  },
  {
   "cell_type": "code",
   "execution_count": 33,
   "metadata": {},
   "outputs": [
    {
     "name": "stdout",
     "output_type": "stream",
     "text": [
      "\n",
      "| round | initially labeled data | number of queries | cost | Performance: |\n",
      "|   0   |   490 (10.00% of all)  |        138        |  0   | 0.810 ± 0.01 |\n",
      "| round | initially labeled data | number of queries | cost | Performance: |\n",
      "|   1   |   490 (10.00% of all)  |        138        |  0   | 0.816 ± 0.01 |\n",
      "| round | initially labeled data | number of queries | cost | Performance: |\n",
      "|   2   |   490 (10.00% of all)  |        138        |  0   | 0.806 ± 0.02 |\n",
      "| round | initially labeled data | number of queries | cost | Performance: |\n",
      "|   3   |   490 (10.00% of all)  |        138        |  0   | 0.819 ± 0.01 |\n",
      "| round | initially labeled data | number of queries | cost | Performance: |\n",
      "|   4   |   490 (10.00% of all)  |        138        |  0   | 0.814 ± 0.01 |\n",
      "| round | initially labeled data | number of queries | cost | Performance: |\n",
      "|   0   |   490 (10.00% of all)  |        138        |  0   | 0.829 ± 0.01 |\n",
      "| round | initially labeled data | number of queries | cost | Performance: |\n",
      "|   1   |   490 (10.00% of all)  |        138        |  0   | 0.845 ± 0.02 |\n",
      "| round | initially labeled data | number of queries | cost | Performance: |\n",
      "|   2   |   490 (10.00% of all)  |        138        |  0   | 0.811 ± 0.02 |\n",
      "| round | initially labeled data | number of queries | cost | Performance: |\n",
      "|   3   |   490 (10.00% of all)  |        138        |  0   | 0.835 ± 0.01 |\n",
      "| round | initially labeled data | number of queries | cost | Performance: |\n",
      "|   4   |   490 (10.00% of all)  |        138        |  0   | 0.833 ± 0.01 |\n",
      "| round | initially labeled data | number of queries | cost | Performance: |\n",
      "|   0   |   490 (10.00% of all)  |        138        |  0   | 0.839 ± 0.02 |\n",
      "| round | initially labeled data | number of queries | cost | Performance: |\n",
      "|   1   |   490 (10.00% of all)  |        138        |  0   | 0.866 ± 0.01 |\n",
      "| round | initially labeled data | number of queries | cost | Performance: |\n",
      "|   2   |   490 (10.00% of all)  |        138        |  0   | 0.836 ± 0.01 |\n",
      "| round | initially labeled data | number of queries | cost | Performance: |\n",
      "|   3   |   490 (10.00% of all)  |        138        |  0   | 0.836 ± 0.01 |\n",
      "| round | initially labeled data | number of queries | cost | Performance: |\n",
      "|   4   |   490 (10.00% of all)  |        138        |  0   | 0.842 ± 0.01 |\n",
      "| round | initially labeled data | number of queries | cost | Performance: |\n",
      "|   0   |   490 (10.00% of all)  |        138        |  0   | 0.853 ± 0.01 |\n",
      "| round | initially labeled data | number of queries | cost | Performance: |\n",
      "|   1   |   490 (10.00% of all)  |        138        |  0   | 0.863 ± 0.01 |\n",
      "| round | initially labeled data | number of queries | cost | Performance: |\n",
      "|   2   |   490 (10.00% of all)  |        138        |  0   | 0.845 ± 0.01 |\n",
      "| round | initially labeled data | number of queries | cost | Performance: |\n",
      "|   3   |   490 (10.00% of all)  |        138        |  0   | 0.851 ± 0.01 |\n",
      "| round | initially labeled data | number of queries | cost | Performance: |\n",
      "|   4   |   490 (10.00% of all)  |        138        |  0   | 0.858 ± 0.01 |\n",
      "| round | initially labeled data | number of queries | cost | Performance: |\n",
      "|   0   |   490 (10.00% of all)  |        138        |  0   | 0.854 ± 0.01 |\n",
      "| round | initially labeled data | number of queries | cost | Performance: |\n",
      "|   1   |   490 (10.00% of all)  |        138        |  0   | 0.869 ± 0.01 |\n",
      "| round | initially labeled data | number of queries | cost | Performance: |\n",
      "|   2   |   490 (10.00% of all)  |        138        |  0   | 0.846 ± 0.01 |\n",
      "| round | initially labeled data | number of queries | cost | Performance: |\n",
      "|   3   |   490 (10.00% of all)  |        138        |  0   | 0.853 ± 0.01 |\n",
      "| round | initially labeled data | number of queries | cost | Performance: |\n",
      "|   4   |   490 (10.00% of all)  |        138        |  0   | 0.861 ± 0.01 |\n",
      "| round | initially labeled data | number of queries | cost | Performance: |\n",
      "|   0   |   490 (10.00% of all)  |        138        |  0   | 0.849 ± 0.02 |\n",
      "| round | initially labeled data | number of queries | cost | Performance: |\n",
      "|   1   |   490 (10.00% of all)  |        138        |  0   | 0.864 ± 0.02 |\n",
      "| round | initially labeled data | number of queries | cost | Performance: |\n",
      "|   2   |   490 (10.00% of all)  |        138        |  0   | 0.847 ± 0.01 |\n",
      "| round | initially labeled data | number of queries | cost | Performance: |\n",
      "|   3   |   490 (10.00% of all)  |        138        |  0   | 0.852 ± 0.02 |\n",
      "| round | initially labeled data | number of queries | cost | Performance: |\n",
      "|   4   |   490 (10.00% of all)  |        138        |  0   | 0.857 ± 0.01 |\n",
      "| round | initially labeled data | number of queries | cost | Performance: |\n",
      "|   0   |   490 (10.00% of all)  |        138        |  0   | 0.854 ± 0.01 |\n",
      "| round | initially labeled data | number of queries | cost | Performance: |\n",
      "|   1   |   490 (10.00% of all)  |        138        |  0   | 0.866 ± 0.01 |\n",
      "| round | initially labeled data | number of queries | cost | Performance: |\n",
      "|   2   |   490 (10.00% of all)  |        138        |  0   | 0.846 ± 0.02 |\n",
      "| round | initially labeled data | number of queries | cost | Performance: |\n",
      "|   3   |   490 (10.00% of all)  |        138        |  0   | 0.847 ± 0.01 |\n",
      "| round | initially labeled data | number of queries | cost | Performance: |\n",
      "|   4   |   490 (10.00% of all)  |        138        |  0   | 0.851 ± 0.01 |\n",
      "| round | initially labeled data | number of queries | cost | Performance: |\n",
      "|   0   |   490 (10.00% of all)  |        138        |  0   | 0.843 ± 0.01 |\n",
      "| round | initially labeled data | number of queries | cost | Performance: |\n",
      "|   1   |   490 (10.00% of all)  |        138        |  0   | 0.860 ± 0.02 |\n",
      "| round | initially labeled data | number of queries | cost | Performance: |\n",
      "|   2   |   490 (10.00% of all)  |        138        |  0   | 0.843 ± 0.02 |\n",
      "| round | initially labeled data | number of queries | cost | Performance: |\n",
      "|   3   |   490 (10.00% of all)  |        138        |  0   | 0.846 ± 0.01 |\n",
      "| round | initially labeled data | number of queries | cost | Performance: |\n",
      "|   4   |   490 (10.00% of all)  |        138        |  0   | 0.853 ± 0.01 |\n",
      "| round | initially labeled data | number of queries | cost | Performance: |\n",
      "|   0   |   490 (10.00% of all)  |        138        |  0   | 0.851 ± 0.01 |\n",
      "| round | initially labeled data | number of queries | cost | Performance: |\n",
      "|   1   |   490 (10.00% of all)  |        138        |  0   | 0.860 ± 0.02 |\n",
      "| round | initially labeled data | number of queries | cost | Performance: |\n",
      "|   2   |   490 (10.00% of all)  |        138        |  0   | 0.848 ± 0.02 |\n",
      "| round | initially labeled data | number of queries | cost | Performance: |\n",
      "|   3   |   490 (10.00% of all)  |        138        |  0   | 0.852 ± 0.02 |\n",
      "| round | initially labeled data | number of queries | cost | Performance: |\n",
      "|   4   |   490 (10.00% of all)  |        138        |  0   | 0.852 ± 0.01 |\n",
      "| round | initially labeled data | number of queries | cost | Performance: |\n",
      "|   0   |   490 (10.00% of all)  |        138        |  0   | 0.846 ± 0.02 |\n",
      "| round | initially labeled data | number of queries | cost | Performance: |\n",
      "|   1   |   490 (10.00% of all)  |        138        |  0   | 0.855 ± 0.02 |\n",
      "| round | initially labeled data | number of queries | cost | Performance: |\n",
      "|   2   |   490 (10.00% of all)  |        138        |  0   | 0.838 ± 0.02 |\n",
      "| round | initially labeled data | number of queries | cost | Performance: |\n",
      "|   3   |   490 (10.00% of all)  |        138        |  0   | 0.847 ± 0.02 |\n",
      "| round | initially labeled data | number of queries | cost | Performance: |\n",
      "|   4   |   490 (10.00% of all)  |        138        |  0   | 0.841 ± 0.02 |\n",
      "| round | initially labeled data | number of queries | cost | Performance: |\n",
      "|   0   |   490 (10.00% of all)  |        138        |  0   | 0.837 ± 0.02 |\n",
      "| round | initially labeled data | number of queries | cost | Performance: |\n",
      "|   1   |   490 (10.00% of all)  |        138        |  0   | 0.847 ± 0.02 |\n",
      "| round | initially labeled data | number of queries | cost | Performance: |\n",
      "|   2   |   490 (10.00% of all)  |        138        |  0   | 0.838 ± 0.02 |\n",
      "| round | initially labeled data | number of queries | cost | Performance: |\n",
      "|   3   |   490 (10.00% of all)  |        138        |  0   | 0.848 ± 0.02 |\n",
      "| round | initially labeled data | number of queries | cost | Performance: |\n",
      "|   4   |   490 (10.00% of all)  |        138        |  0   | 0.847 ± 0.02 |\n",
      "| round | initially labeled data | number of queries | cost | Performance: |\n",
      "|   0   |   490 (10.00% of all)  |        138        |  0   | 0.853 ± 0.02 |\n",
      "| round | initially labeled data | number of queries | cost | Performance: |\n",
      "|   1   |   490 (10.00% of all)  |        138        |  0   | 0.859 ± 0.02 |\n",
      "| round | initially labeled data | number of queries | cost | Performance: |\n",
      "|   2   |   490 (10.00% of all)  |        138        |  0   | 0.843 ± 0.02 |\n",
      "| round | initially labeled data | number of queries | cost | Performance: |\n",
      "|   3   |   490 (10.00% of all)  |        138        |  0   | 0.862 ± 0.01 |\n",
      "| round | initially labeled data | number of queries | cost | Performance: |\n",
      "|   4   |   490 (10.00% of all)  |        138        |  0   | 0.855 ± 0.02 |\n",
      "| round | initially labeled data | number of queries | cost | Performance: |\n",
      "|   0   |   490 (10.00% of all)  |        138        |  0   | 0.843 ± 0.01 |\n",
      "| round | initially labeled data | number of queries | cost | Performance: |\n",
      "|   1   |   490 (10.00% of all)  |        138        |  0   | 0.851 ± 0.01 |\n",
      "| round | initially labeled data | number of queries | cost | Performance: |\n",
      "|   2   |   490 (10.00% of all)  |        138        |  0   | 0.833 ± 0.01 |\n",
      "| round | initially labeled data | number of queries | cost | Performance: |\n",
      "|   3   |   490 (10.00% of all)  |        138        |  0   | 0.842 ± 0.02 |\n",
      "| round | initially labeled data | number of queries | cost | Performance: |\n",
      "|   4   |   490 (10.00% of all)  |        138        |  0   | 0.843 ± 0.01 |\n",
      "| round | initially labeled data | number of queries | cost | Performance: |\n",
      "|   0   |   490 (10.00% of all)  |        138        |  0   | 0.844 ± 0.01 |\n",
      "| round | initially labeled data | number of queries | cost | Performance: |\n",
      "|   1   |   490 (10.00% of all)  |        138        |  0   | 0.849 ± 0.02 |\n",
      "| round | initially labeled data | number of queries | cost | Performance: |\n",
      "|   2   |   490 (10.00% of all)  |        138        |  0   | 0.828 ± 0.02 |\n",
      "| round | initially labeled data | number of queries | cost | Performance: |\n",
      "|   3   |   490 (10.00% of all)  |        138        |  0   | 0.842 ± 0.01 |\n",
      "| round | initially labeled data | number of queries | cost | Performance: |\n",
      "|   4   |   490 (10.00% of all)  |        138        |  0   | 0.840 ± 0.02 |"
     ]
    }
   ],
   "source": [
    "for i in range(len(CLS_layers)):\n",
    "\n",
    "    X=CLS_layers[i]\n",
    "    y=labels_np\n",
    "\n",
    "    alibox = ToolBox(X=X, y=y, query_type='AllLabels', saving_path='.')\n",
    "\n",
    "    # Split data\n",
    "    alibox.split_AL(test_ratio=0.3, initial_label_rate=0.1, split_count=10)\n",
    "\n",
    "    # Use the default Logistic Regression classifier\n",
    "    model = alibox.get_default_model()\n",
    "\n",
    "    # The cost budget is 50 times querying\n",
    "    stopping_criterion = alibox.get_stopping_criterion('num_of_queries', n_iteration)\n",
    "    \n",
    "\n",
    "    for round in range(5):\n",
    "        train_idx, test_idx, label_ind, unlab_ind = alibox.get_split(round)\n",
    "\n",
    "        # Use pre-defined strategy\n",
    "        unc = alibox.get_query_strategy(strategy_name=\"QueryInstanceUncertainty\")\n",
    "\n",
    "        unc_results[i].append(copy.deepcopy(main_loop(alibox, unc, round)))\n",
    "        "
   ]
  },
  {
   "cell_type": "code",
   "execution_count": 38,
   "metadata": {},
   "outputs": [
    {
     "name": "stdout",
     "output_type": "stream",
     "text": [
      "\n",
      "+----------------+-------------------+---------------------------+--------------+------------+\n",
      "|    Methods     | number_of_queries | number_of_different_split | performance  | batch_size |\n",
      "+----------------+-------------------+---------------------------+--------------+------------+\n",
      "|  Unc_Layer_12  |        138        |             5             | 0.854 ± 0.01 |     32     |\n",
      "|  Unc_Layer_11  |        138        |             5             | 0.843 ± 0.00 |     32     |\n",
      "|  Unc_Layer_10  |        138        |             5             | 0.845 ± 0.01 |     32     |\n",
      "|  Unc_Layer_9   |        138        |             5             | 0.852 ± 0.00 |     32     |\n",
      "|  Unc_Layer_8   |        138        |             5             | 0.849 ± 0.01 |     32     |\n",
      "|  Unc_Layer_7   |        138        |             5             | 0.853 ± 0.01 |     32     |\n",
      "|  Unc_Layer_6   |        138        |             5             | 0.854 ± 0.01 |     32     |\n",
      "|  Unc_Layer_5   |        138        |             5             | 0.856 ± 0.01 |     32     |\n",
      "|  Unc_Layer_4   |        138        |             5             | 0.854 ± 0.01 |     32     |\n",
      "|  Unc_Layer_3   |        138        |             5             | 0.843 ± 0.01 |     32     |\n",
      "|  Unc_Layer_2   |        138        |             5             | 0.830 ± 0.01 |     32     |\n",
      "|  Unc_Layer_1   |        138        |             5             | 0.813 ± 0.00 |     32     |\n",
      "| Unc_Layer_7-10 |        138        |             5             | 0.842 ± 0.01 |     32     |\n",
      "| Unc_Layer_9-12 |        138        |             5             | 0.840 ± 0.01 |     32     |\n",
      "+----------------+-------------------+---------------------------+--------------+------------+\n"
     ]
    },
    {
     "data": {
      "image/png": "[encoded data removed]",
      "text/plain": [
       "<Figure size 432x288 with 1 Axes>"
      ]
     },
     "metadata": {
      "needs_background": "light"
     },
     "output_type": "display_data"
    }
   ],
   "source": [
    "analyser = alibox.get_experiment_analyser(x_axis='num_of_queries')\n",
    "\n",
    "\n",
    "for i in range(len(unc_results)-2):\n",
    "    \n",
    "    # Iterationg results in reverse beacues 12th layer has the best performance and will stay at top\n",
    "    # On the plot we want to somehow corralete the layer and the plot\n",
    "    analyser.add_method(method_name='Unc_Layer_' + str(len(CLS_layers)-i-2), method_results=unc_results[len(CLS_layers)-i-3])        \n",
    "    \n",
    "analyser.add_method(method_name='Unc_Layer_7-10' , method_results=unc_results[12])\n",
    "analyser.add_method(method_name='Unc_Layer_9-12' , method_results=unc_results[13])\n",
    "    \n",
    "print(analyser)\n",
    "analyser.plot_learning_curves(title='Layer', std_area=False)"
   ]
  },
  {
   "cell_type": "code",
   "execution_count": 35,
   "metadata": {},
   "outputs": [
    {
     "name": "stdout",
     "output_type": "stream",
     "text": [
      "FOR 14 TRANSFORMER BLOCKS\n",
      "1200 Queries\n",
      "5 different train/test splits\n",
      "-----------------------------------------\n",
      "Average Runtime For one Transformer Block\n",
      "2.617471608143169\n",
      "Maximum Runtime For one Query\n",
      "15.824809551239014\n",
      "Minimum Runtime For one Query\n",
      "0.12636327743530273\n",
      "Total Time\n",
      "25284.77573466301\n"
     ]
    }
   ],
   "source": [
    "avg_time = sum(total_time) / len(total_time)\n",
    "    \n",
    "print('FOR 14 TRANSFORMER BLOCKS' )\n",
    "print('1200 Queries')\n",
    "print('5 different train/test splits')\n",
    "print(\"-----------------------------------------\")\n",
    "print(\"Average Runtime For one Transformer Block\")\n",
    "print(avg_time)\n",
    "               \n",
    "print(\"Maximum Runtime For one Query\")\n",
    "print(max(total_time))\n",
    "               \n",
    "print(\"Minimum Runtime For one Query\")\n",
    "print(min(total_time))\n",
    "\n",
    "print(\"Total Time\")\n",
    "print(sum(total_time))"
   ]
  },
  {
   "cell_type": "code",
   "execution_count": 39,
   "metadata": {},
   "outputs": [
    {
     "data": {
      "text/plain": [
       "[| round | initially labeled data | number of queries | cost | Performance: |\n",
       " |   0   |   490 (10.00% of all)  |        138        |  0   | 0.829 ± 0.01 |,\n",
       " | round | initially labeled data | number of queries | cost | Performance: |\n",
       " |   1   |   490 (10.00% of all)  |        138        |  0   | 0.845 ± 0.02 |,\n",
       " | round | initially labeled data | number of queries | cost | Performance: |\n",
       " |   2   |   490 (10.00% of all)  |        138        |  0   | 0.811 ± 0.02 |,\n",
       " | round | initially labeled data | number of queries | cost | Performance: |\n",
       " |   3   |   490 (10.00% of all)  |        138        |  0   | 0.835 ± 0.01 |,\n",
       " | round | initially labeled data | number of queries | cost | Performance: |\n",
       " |   4   |   490 (10.00% of all)  |        138        |  0   | 0.833 ± 0.01 |]"
      ]
     },
     "execution_count": 39,
     "metadata": {},
     "output_type": "execute_result"
    }
   ],
   "source": [
    "unc_results[1]"
   ]
  },
  {
   "cell_type": "code",
   "execution_count": 36,
   "metadata": {
    "scrolled": true
   },
   "outputs": [
    {
     "data": {
      "image/png": "[encoded data removed]",
      "text/plain": [
       "<Figure size 432x288 with 1 Axes>"
      ]
     },
     "metadata": {
      "needs_background": "light"
     },
     "output_type": "display_data"
    }
   ],
   "source": [
    "import matplotlib.pyplot as plt\n",
    "\n",
    "plt.plot(total_time)\n",
    "plt.ylabel('Time in Seconds')\n",
    "plt.xlabel('Query Instances')\n",
    "plt.show()"
   ]
  }
 ],
 "metadata": {
  "colab": {
   "include_colab_link": true,
   "machine_shape": "hm",
   "name": "A Visual Notebook to Using BERT for the First Time.ipynb",
   "provenance": []
  },
  "kernelspec": {
   "display_name": "Python 3 (ipykernel)",
   "language": "python",
   "name": "python3"
  },
  "language_info": {
   "codemirror_mode": {
    "name": "ipython",
    "version": 3
   },
   "file_extension": ".py",
   "mimetype": "text/x-python",
   "name": "python",
   "nbconvert_exporter": "python",
   "pygments_lexer": "ipython3",
   "version": "3.8.12"
  }
 },
 "nbformat": 4,
 "nbformat_minor": 1
}
