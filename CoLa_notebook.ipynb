{
 "cells": [
  {
   "cell_type": "code",
   "execution_count": 1,
   "metadata": {
    "scrolled": false
   },
   "outputs": [],
   "source": [
    "#!pip install something_missing"
   ]
  },
  {
   "cell_type": "code",
   "execution_count": 2,
   "metadata": {
    "colab": {
     "base_uri": "https://localhost:8080/",
     "height": 63
    },
    "colab_type": "code",
    "id": "fvFvBLJV0Dkv",
    "outputId": "140119e5-4cee-4604-c0d2-be279c18b125"
   },
   "outputs": [],
   "source": [
    "import numpy as np\n",
    "import pandas as pd\n",
    "from sklearn.model_selection import train_test_split\n",
    "from sklearn.linear_model import LogisticRegression\n",
    "from sklearn.model_selection import GridSearchCV\n",
    "from sklearn.model_selection import cross_val_score\n",
    "from sklearn import metrics\n",
    "from sklearn.ensemble import RandomForestClassifier\n",
    "import torch\n",
    "import transformers as ppb\n",
    "import warnings\n",
    "warnings.filterwarnings('ignore')\n",
    "import tensorflow as tf\n",
    "import time\n",
    "import copy\n",
    "from sklearn.datasets import make_classification\n",
    "from alipy import ToolBox"
   ]
  },
  {
   "cell_type": "code",
   "execution_count": 3,
   "metadata": {},
   "outputs": [
    {
     "name": "stderr",
     "output_type": "stream",
     "text": [
      "2022-03-25 09:40:29.830443: I tensorflow/core/platform/cpu_feature_guard.cc:151] This TensorFlow binary is optimized with oneAPI Deep Neural Network Library (oneDNN) to use the following CPU instructions in performance-critical operations:  AVX2 AVX512F FMA\n",
      "To enable them in other operations, rebuild TensorFlow with the appropriate compiler flags.\n",
      "2022-03-25 09:40:30.931081: I tensorflow/core/common_runtime/gpu/gpu_device.cc:1525] Created device /device:GPU:0 with 47221 MB memory:  -> device: 0, name: Quadro RTX 8000, pci bus id: 0000:3b:00.0, compute capability: 7.5\n",
      "2022-03-25 09:40:30.931774: I tensorflow/core/common_runtime/gpu/gpu_device.cc:1525] Created device /device:GPU:1 with 47221 MB memory:  -> device: 1, name: Quadro RTX 8000, pci bus id: 0000:d8:00.0, compute capability: 7.5\n"
     ]
    },
    {
     "data": {
      "text/plain": [
       "'/device:GPU:0'"
      ]
     },
     "execution_count": 3,
     "metadata": {},
     "output_type": "execute_result"
    }
   ],
   "source": [
    "# Check Gpu\n",
    "tf.test.gpu_device_name()"
   ]
  },
  {
   "cell_type": "code",
   "execution_count": 4,
   "metadata": {
    "colab": {},
    "colab_type": "code",
    "id": "cyoj29J24hPX"
   },
   "outputs": [
    {
     "data": {
      "text/html": [
       "<div>\n",
       "<style scoped>\n",
       "    .dataframe tbody tr th:only-of-type {\n",
       "        vertical-align: middle;\n",
       "    }\n",
       "\n",
       "    .dataframe tbody tr th {\n",
       "        vertical-align: top;\n",
       "    }\n",
       "\n",
       "    .dataframe thead th {\n",
       "        text-align: right;\n",
       "    }\n",
       "</style>\n",
       "<table border=\"1\" class=\"dataframe\">\n",
       "  <thead>\n",
       "    <tr style=\"text-align: right;\">\n",
       "      <th></th>\n",
       "      <th>labels</th>\n",
       "      <th>sentences</th>\n",
       "    </tr>\n",
       "  </thead>\n",
       "  <tbody>\n",
       "    <tr>\n",
       "      <th>0</th>\n",
       "      <td>1</td>\n",
       "      <td>Our friends won't buy this analysis, let alone...</td>\n",
       "    </tr>\n",
       "    <tr>\n",
       "      <th>1</th>\n",
       "      <td>1</td>\n",
       "      <td>One more pseudo generalization and I'm giving up.</td>\n",
       "    </tr>\n",
       "    <tr>\n",
       "      <th>2</th>\n",
       "      <td>1</td>\n",
       "      <td>One more pseudo generalization or I'm giving up.</td>\n",
       "    </tr>\n",
       "    <tr>\n",
       "      <th>3</th>\n",
       "      <td>1</td>\n",
       "      <td>The more we study verbs, the crazier they get.</td>\n",
       "    </tr>\n",
       "    <tr>\n",
       "      <th>4</th>\n",
       "      <td>1</td>\n",
       "      <td>Day by day the facts are getting murkier.</td>\n",
       "    </tr>\n",
       "    <tr>\n",
       "      <th>...</th>\n",
       "      <td>...</td>\n",
       "      <td>...</td>\n",
       "    </tr>\n",
       "    <tr>\n",
       "      <th>8546</th>\n",
       "      <td>0</td>\n",
       "      <td>Poseidon appears to own a dragon</td>\n",
       "    </tr>\n",
       "    <tr>\n",
       "      <th>8547</th>\n",
       "      <td>0</td>\n",
       "      <td>Digitize is my happiest memory</td>\n",
       "    </tr>\n",
       "    <tr>\n",
       "      <th>8548</th>\n",
       "      <td>1</td>\n",
       "      <td>It is easy to slay the Gorgon.</td>\n",
       "    </tr>\n",
       "    <tr>\n",
       "      <th>8549</th>\n",
       "      <td>1</td>\n",
       "      <td>I had the strangest feeling that I knew you.</td>\n",
       "    </tr>\n",
       "    <tr>\n",
       "      <th>8550</th>\n",
       "      <td>1</td>\n",
       "      <td>What all did you get for Christmas?</td>\n",
       "    </tr>\n",
       "  </tbody>\n",
       "</table>\n",
       "<p>8551 rows × 2 columns</p>\n",
       "</div>"
      ],
      "text/plain": [
       "      labels                                          sentences\n",
       "0          1  Our friends won't buy this analysis, let alone...\n",
       "1          1  One more pseudo generalization and I'm giving up.\n",
       "2          1   One more pseudo generalization or I'm giving up.\n",
       "3          1     The more we study verbs, the crazier they get.\n",
       "4          1          Day by day the facts are getting murkier.\n",
       "...      ...                                                ...\n",
       "8546       0                   Poseidon appears to own a dragon\n",
       "8547       0                     Digitize is my happiest memory\n",
       "8548       1                     It is easy to slay the Gorgon.\n",
       "8549       1       I had the strangest feeling that I knew you.\n",
       "8550       1                What all did you get for Christmas?\n",
       "\n",
       "[8551 rows x 2 columns]"
      ]
     },
     "execution_count": 4,
     "metadata": {},
     "output_type": "execute_result"
    }
   ],
   "source": [
    "df = pd.read_csv(\"raw/in_domain_train.tsv\", delimiter='\\t', header=None, names=['sentence_source', 'labels', 'label_notes', 'sentences'])\n",
    "df = df.drop(labels=['sentence_source','label_notes'], axis=1)\n",
    "df"
   ]
  },
  {
   "cell_type": "code",
   "execution_count": 5,
   "metadata": {},
   "outputs": [
    {
     "name": "stdout",
     "output_type": "stream",
     "text": [
      "(8551, 2)\n"
     ]
    }
   ],
   "source": [
    "print(df.shape)"
   ]
  },
  {
   "cell_type": "code",
   "execution_count": 6,
   "metadata": {
    "colab": {},
    "colab_type": "code",
    "id": "gTM3hOHW4hUY"
   },
   "outputs": [],
   "source": [
    "# Limit dataframe to work faster\n",
    "#df = df[:500]"
   ]
  },
  {
   "cell_type": "code",
   "execution_count": 7,
   "metadata": {
    "colab": {
     "base_uri": "https://localhost:8080/",
     "height": 68
    },
    "colab_type": "code",
    "id": "jGvcfcCP5xpZ",
    "outputId": "4c4a8afc-1035-4b21-ba9a-c4bb6cfc6347",
    "scrolled": true
   },
   "outputs": [
    {
     "data": {
      "text/plain": [
       "1    6023\n",
       "0    2528\n",
       "Name: labels, dtype: int64"
      ]
     },
     "execution_count": 7,
     "metadata": {},
     "output_type": "execute_result"
    }
   ],
   "source": [
    "# Get total number of positive and negative reviews\n",
    "df['labels'].value_counts()"
   ]
  },
  {
   "cell_type": "code",
   "execution_count": 8,
   "metadata": {
    "colab": {},
    "colab_type": "code",
    "id": "Dg82ndBA5xlN"
   },
   "outputs": [],
   "source": [
    "# Our first step is to tokenize the sentences -- break them up into word and subwords in the format BERT is comfortable with.\n",
    "\n",
    "# Create Bert tokenizer class\n",
    "tokenizer_class = ppb.BertTokenizer\n",
    "\n",
    "# Save the weights for uncased Bert \n",
    "pretrained_weights = 'bert-base-cased'\n",
    "\n",
    "# Create a tokenizer from tokenizer class\n",
    "tokenizer = tokenizer_class.from_pretrained(pretrained_weights)\n",
    "\n",
    "# Tokenize all of the sentences \n",
    "tokenized = df['sentences'].apply((lambda x: tokenizer.encode(x, add_special_tokens=True)))"
   ]
  },
  {
   "cell_type": "code",
   "execution_count": 9,
   "metadata": {
    "scrolled": true
   },
   "outputs": [
    {
     "data": {
      "text/plain": [
       "0       [101, 3458, 2053, 1281, 112, 189, 4417, 1142, ...\n",
       "1       [101, 1448, 1167, 23563, 1704, 2734, 1105, 146...\n",
       "2       [101, 1448, 1167, 23563, 1704, 2734, 1137, 146...\n",
       "3       [101, 1109, 1167, 1195, 2025, 17992, 117, 1103...\n",
       "4       [101, 2295, 1118, 1285, 1103, 9193, 1132, 2033...\n",
       "                              ...                        \n",
       "8546    [101, 18959, 17191, 3842, 2691, 1106, 1319, 17...\n",
       "8547    [101, 12120, 24632, 3708, 1110, 1139, 5871, 86...\n",
       "8548    [101, 1135, 1110, 3123, 1106, 188, 6622, 1103,...\n",
       "8549    [101, 146, 1125, 1103, 4020, 2050, 2296, 1115,...\n",
       "8550    [101, 1327, 1155, 1225, 1128, 1243, 1111, 3394...\n",
       "Name: sentences, Length: 8551, dtype: object"
      ]
     },
     "execution_count": 9,
     "metadata": {},
     "output_type": "execute_result"
    }
   ],
   "source": [
    "tokenized"
   ]
  },
  {
   "cell_type": "code",
   "execution_count": 10,
   "metadata": {},
   "outputs": [
    {
     "data": {
      "text/plain": [
       "(8551,)"
      ]
     },
     "execution_count": 10,
     "metadata": {},
     "output_type": "execute_result"
    }
   ],
   "source": [
    "tokenized.shape"
   ]
  },
  {
   "cell_type": "code",
   "execution_count": 11,
   "metadata": {
    "colab": {},
    "colab_type": "code",
    "id": "URn-DWJt5xhP"
   },
   "outputs": [
    {
     "data": {
      "text/plain": [
       "array([[ 101, 3458, 2053, ...,    0,    0,    0],\n",
       "       [ 101, 1448, 1167, ...,    0,    0,    0],\n",
       "       [ 101, 1448, 1167, ...,    0,    0,    0],\n",
       "       ...,\n",
       "       [ 101, 1135, 1110, ...,    0,    0,    0],\n",
       "       [ 101,  146, 1125, ...,    0,    0,    0],\n",
       "       [ 101, 1327, 1155, ...,    0,    0,    0]])"
      ]
     },
     "execution_count": 11,
     "metadata": {},
     "output_type": "execute_result"
    }
   ],
   "source": [
    "# Add padding to all of the sentences so that they have the same size\n",
    "# So the input can be represented as a 2d array\n",
    "# Important for performance\n",
    "\n",
    "max_len = 0\n",
    "for i in tokenized.values:\n",
    "    if len(i) > max_len:\n",
    "        max_len = len(i)\n",
    "\n",
    "padded = np.array([i + [0]*(max_len-len(i)) for i in tokenized.values])\n",
    "\n",
    "padded"
   ]
  },
  {
   "cell_type": "code",
   "execution_count": 12,
   "metadata": {
    "colab": {
     "base_uri": "https://localhost:8080/",
     "height": 34
    },
    "colab_type": "code",
    "id": "jdi7uXo95xeq",
    "outputId": "be786022-e84f-4e28-8531-0143af2347bc"
   },
   "outputs": [
    {
     "data": {
      "text/plain": [
       "(8551, 47)"
      ]
     },
     "execution_count": 12,
     "metadata": {},
     "output_type": "execute_result"
    }
   ],
   "source": [
    "np.array(padded).shape"
   ]
  },
  {
   "cell_type": "code",
   "execution_count": 13,
   "metadata": {
    "colab": {
     "base_uri": "https://localhost:8080/",
     "height": 34
    },
    "colab_type": "code",
    "id": "4K_iGRNa_Ozc",
    "outputId": "d03b0a9b-1f6e-4e32-831e-b04f5389e57c"
   },
   "outputs": [
    {
     "data": {
      "text/plain": [
       "array([[1, 1, 1, ..., 0, 0, 0],\n",
       "       [1, 1, 1, ..., 0, 0, 0],\n",
       "       [1, 1, 1, ..., 0, 0, 0],\n",
       "       ...,\n",
       "       [1, 1, 1, ..., 0, 0, 0],\n",
       "       [1, 1, 1, ..., 0, 0, 0],\n",
       "       [1, 1, 1, ..., 0, 0, 0]])"
      ]
     },
     "execution_count": 13,
     "metadata": {},
     "output_type": "execute_result"
    }
   ],
   "source": [
    "# Attention mask is created to mask the padded values\n",
    "attention_mask = np.where(padded != 0, 1, 0)\n",
    "attention_mask"
   ]
  },
  {
   "cell_type": "code",
   "execution_count": 14,
   "metadata": {
    "scrolled": true
   },
   "outputs": [
    {
     "data": {
      "text/plain": [
       "(8551, 47)"
      ]
     },
     "execution_count": 14,
     "metadata": {},
     "output_type": "execute_result"
    }
   ],
   "source": [
    "attention_mask.shape"
   ]
  },
  {
   "cell_type": "code",
   "execution_count": 15,
   "metadata": {
    "colab": {
     "base_uri": "https://localhost:8080/",
     "height": 68
    },
    "colab_type": "code",
    "id": "q1InADgf5xm2",
    "outputId": "dbc52856-4d52-42f8-8a74-a89944280a02"
   },
   "outputs": [
    {
     "name": "stderr",
     "output_type": "stream",
     "text": [
      "Some weights of the model checkpoint at bert-base-cased were not used when initializing BertModel: ['cls.predictions.decoder.weight', 'cls.predictions.transform.dense.weight', 'cls.predictions.bias', 'cls.predictions.transform.dense.bias', 'cls.predictions.transform.LayerNorm.weight', 'cls.predictions.transform.LayerNorm.bias', 'cls.seq_relationship.bias', 'cls.seq_relationship.weight']\n",
      "- This IS expected if you are initializing BertModel from the checkpoint of a model trained on another task or with another architecture (e.g. initializing a BertForSequenceClassification model from a BertForPreTraining model).\n",
      "- This IS NOT expected if you are initializing BertModel from the checkpoint of a model that you expect to be exactly identical (initializing a BertForSequenceClassification model from a BertForSequenceClassification model).\n"
     ]
    }
   ],
   "source": [
    "# Create config just in case \n",
    "config = ppb.BertConfig(output_hidden_states=True)\n",
    "model_class = ppb.BertModel(config=config)\n",
    "\n",
    "# Load pretrained model/tokenizer\n",
    "model = model_class.from_pretrained(pretrained_weights)\n"
   ]
  },
  {
   "cell_type": "code",
   "execution_count": 16,
   "metadata": {},
   "outputs": [
    {
     "data": {
      "text/plain": [
       "BertConfig {\n",
       "  \"_name_or_path\": \"bert-base-cased\",\n",
       "  \"architectures\": [\n",
       "    \"BertForMaskedLM\"\n",
       "  ],\n",
       "  \"attention_probs_dropout_prob\": 0.1,\n",
       "  \"classifier_dropout\": null,\n",
       "  \"gradient_checkpointing\": false,\n",
       "  \"hidden_act\": \"gelu\",\n",
       "  \"hidden_dropout_prob\": 0.1,\n",
       "  \"hidden_size\": 768,\n",
       "  \"initializer_range\": 0.02,\n",
       "  \"intermediate_size\": 3072,\n",
       "  \"layer_norm_eps\": 1e-12,\n",
       "  \"max_position_embeddings\": 512,\n",
       "  \"model_type\": \"bert\",\n",
       "  \"num_attention_heads\": 12,\n",
       "  \"num_hidden_layers\": 12,\n",
       "  \"pad_token_id\": 0,\n",
       "  \"position_embedding_type\": \"absolute\",\n",
       "  \"transformers_version\": \"4.16.2\",\n",
       "  \"type_vocab_size\": 2,\n",
       "  \"use_cache\": true,\n",
       "  \"vocab_size\": 28996\n",
       "}"
      ]
     },
     "execution_count": 16,
     "metadata": {},
     "output_type": "execute_result"
    }
   ],
   "source": [
    "# Check model config \n",
    "model.config"
   ]
  },
  {
   "cell_type": "code",
   "execution_count": 17,
   "metadata": {
    "colab": {},
    "colab_type": "code",
    "id": "39UVjAV56PJz"
   },
   "outputs": [],
   "source": [
    "# Transform padded to a tensor \n",
    "input_ids = torch.tensor(padded)  \n",
    "\n",
    "# Transfer mask to a tensor \n",
    "attention_mask = torch.tensor(attention_mask)\n",
    "\n",
    "# Run the sentences through BERT save the states of each layer to hidden_states\n",
    "with torch.no_grad():    \n",
    "    outputs = model(input_ids, attention_mask=attention_mask, output_hidden_states=True)"
   ]
  },
  {
   "cell_type": "code",
   "execution_count": 18,
   "metadata": {},
   "outputs": [
    {
     "data": {
      "text/plain": [
       "3"
      ]
     },
     "execution_count": 18,
     "metadata": {},
     "output_type": "execute_result"
    }
   ],
   "source": [
    "len(outputs)"
   ]
  },
  {
   "cell_type": "code",
   "execution_count": 19,
   "metadata": {
    "scrolled": false
   },
   "outputs": [],
   "source": [
    "#outputs[2] gets all of the 12 layers\n",
    "\n",
    "hidden_states = outputs[2]"
   ]
  },
  {
   "cell_type": "code",
   "execution_count": 20,
   "metadata": {},
   "outputs": [
    {
     "data": {
      "text/plain": [
       "13"
      ]
     },
     "execution_count": 20,
     "metadata": {},
     "output_type": "execute_result"
    }
   ],
   "source": [
    "len(hidden_states)"
   ]
  },
  {
   "cell_type": "code",
   "execution_count": 21,
   "metadata": {},
   "outputs": [],
   "source": [
    "embedding_output = hidden_states[0]\n",
    "\n",
    "layer_1 = hidden_states[1]\n",
    "layer_2 = hidden_states[2]\n",
    "layer_3 = hidden_states[3]\n",
    "layer_4 = hidden_states[4]\n",
    "layer_5 = hidden_states[5]\n",
    "layer_6 = hidden_states[6]\n",
    "layer_7 = hidden_states[7]\n",
    "layer_8 = hidden_states[8]\n",
    "layer_9 = hidden_states[9]\n",
    "layer_10 = hidden_states[10]\n",
    "layer_11 = hidden_states[11]\n",
    "layer_12 = hidden_states[12]"
   ]
  },
  {
   "cell_type": "code",
   "execution_count": 22,
   "metadata": {
    "colab": {},
    "colab_type": "code",
    "id": "C9t60At16PVs"
   },
   "outputs": [
    {
     "data": {
      "text/plain": [
       "(8551,)"
      ]
     },
     "execution_count": 22,
     "metadata": {},
     "output_type": "execute_result"
    }
   ],
   "source": [
    "# Let's slice only the part of the output that we need. That is the output corresponding the first token of each sentence. \n",
    "# The way BERT does sentence classification, is that it adds a token called [CLS] (for classification) at the beginning of every sentence. \n",
    "# The output corresponding to that token can be thought of as an embedding for the entire sentence.\n",
    "# We'll save those in the features variable, as they'll serve as the features to our random forest classifier.\n",
    "\n",
    "features_1 = layer_1[:,0,:].numpy()\n",
    "features_2 = layer_2[:,0,:].numpy()\n",
    "features_3 = layer_3[:,0,:].numpy()\n",
    "features_4 = layer_4[:,0,:].numpy()\n",
    "features_5 = layer_5[:,0,:].numpy()\n",
    "features_6 = layer_6[:,0,:].numpy()\n",
    "features_7 = layer_7[:,0,:].numpy()\n",
    "features_8 = layer_8[:,0,:].numpy()\n",
    "features_9 = layer_9[:,0,:].numpy()\n",
    "features_10 = layer_10[:,0,:].numpy()\n",
    "features_11 = layer_11[:,0,:].numpy()\n",
    "features_12 = layer_12[:,0,:].numpy()\n",
    "\n",
    "labels = df['labels']\n",
    "labels_np = labels.to_numpy()\n",
    "\n",
    "labels_np.shape"
   ]
  },
  {
   "cell_type": "code",
   "execution_count": 23,
   "metadata": {},
   "outputs": [],
   "source": [
    "#Do active learning with y_confidence values but how?\n",
    "\n",
    "#!pip install alipy\n",
    "\n",
    "total_time = []"
   ]
  },
  {
   "cell_type": "code",
   "execution_count": 24,
   "metadata": {},
   "outputs": [],
   "source": [
    "# Define active learning loop using ALiPy\n",
    "# Check http://parnec.nuaa.edu.cn/_upload/tpl/02/db/731/template731/pages/huangsj/alipy/example.html#collapseOne\n",
    "\n",
    "def main_loop(alibox, strategy, round):\n",
    "        # Get the data split of one fold experiment\n",
    "        train_idx, test_idx, label_ind, unlab_ind = alibox.get_split(round)\n",
    "        # Get intermediate results saver for one fold experiment\n",
    "        saver = alibox.get_stateio(round, saving_path=f\"./{strategy.__class__.__name__}_{round}.pkl\")\n",
    "\n",
    "        # Set initial performance point\n",
    "        model.fit(X=X[label_ind.index, :], y=y[label_ind.index])\n",
    "        pred = model.predict(X[test_idx, :])\n",
    "        accuracy = alibox.calc_performance_metric(y_true=y[test_idx],\n",
    "                                                  y_pred=pred,\n",
    "                                                  performance_metric='accuracy_score')\n",
    "        saver.set_initial_point(accuracy)\n",
    "\n",
    "        # If the stopping criterion is simple, such as query 50 times. Use `for i in range(50):` is ok.\n",
    "        while not stopping_criterion.is_stop():\n",
    "            # Select a subset of Uind according to the query strategy\n",
    "            # Passing model=None to use the default model for evaluating the committees' disagreement\n",
    "            # Set batch size 2\n",
    "            select_ind = strategy.select(label_index=label_ind, unlabel_index=unlab_ind, batch_size=32, model=model)\n",
    "            label_ind.update(select_ind)\n",
    "            unlab_ind.difference_update(select_ind)\n",
    "            \n",
    "            \n",
    "            start = time.time()\n",
    "            # Update model and calc performance according to the model you are using\n",
    "            model.fit(X=X[label_ind.index, :], y=y[label_ind.index])\n",
    "            end = time.time()\n",
    "            \n",
    "            iteration_time = end-start\n",
    "            total_time.append(iteration_time)\n",
    "            \n",
    "            pred = model.predict(X[test_idx, :])\n",
    "            accuracy = alibox.calc_performance_metric(y_true=y[test_idx],\n",
    "                                                      y_pred=pred,\n",
    "                                                      performance_metric='accuracy_score')\n",
    "\n",
    "            # Save intermediate results to file\n",
    "            st = alibox.State(select_index=select_ind, performance=accuracy)\n",
    "            saver.add_state(st)\n",
    "            saver.save()\n",
    "\n",
    "            # Passing the current progress to stopping criterion object\n",
    "            stopping_criterion.update_information(saver)\n",
    "        # Reset the progress in stopping criterion object\n",
    "        stopping_criterion.reset()\n",
    "        return saver"
   ]
  },
  {
   "cell_type": "code",
   "execution_count": 25,
   "metadata": {},
   "outputs": [],
   "source": [
    "# Define some stuff for AL loop\n",
    "\n",
    "n_iteration = 1200 \n"
   ]
  },
  {
   "cell_type": "code",
   "execution_count": 26,
   "metadata": {},
   "outputs": [],
   "source": [
    "# Create holders for uncertantiy sampling results for each different layer\n",
    "\n",
    "unc_result_1 = []\n",
    "unc_result_2 = []\n",
    "unc_result_3 = []\n",
    "unc_result_4 = []\n",
    "unc_result_5 = []\n",
    "unc_result_6 = []\n",
    "unc_result_7 = []\n",
    "unc_result_8 = []\n",
    "unc_result_9 = []\n",
    "unc_result_10 = []\n",
    "unc_result_11 = []\n",
    "unc_result_12 = []\n",
    "\n",
    "unc_result_add_last_4 = []\n",
    "unc_result_cct_last_4 = []\n",
    "\n",
    "\n",
    "unc_results = (unc_result_1, unc_result_2, unc_result_3, unc_result_4, unc_result_5, unc_result_6,\n",
    "                unc_result_7, unc_result_8, unc_result_9, unc_result_10, unc_result_11, unc_result_12,\n",
    "                unc_result_add_last_4, unc_result_cct_last_4)"
   ]
  },
  {
   "cell_type": "code",
   "execution_count": 27,
   "metadata": {},
   "outputs": [],
   "source": [
    "# Save the CLS values in a list to iterate them on the model\n",
    "CLS_layers = ()"
   ]
  },
  {
   "cell_type": "code",
   "execution_count": 28,
   "metadata": {
    "scrolled": true
   },
   "outputs": [],
   "source": [
    "# get layer combinations for addition\n",
    "\n",
    "add_5_6 = np.add(features_5, features_6)\n",
    "add_7_8 = np.add(features_7, features_8)\n",
    "add_9_10 = np.add(features_9, features_10)\n",
    "add_11_12 = np.add(features_11, features_12)\n",
    "\n",
    "\n",
    "add_9_12 = np.add(add_9_10, add_11_12)\n",
    "\n",
    "add_7_10 = np.add(add_7_8, add_9_10)\n",
    "\n",
    "add_5_8 = np.add(add_5_6, add_7_8)\n",
    "\n"
   ]
  },
  {
   "cell_type": "code",
   "execution_count": 29,
   "metadata": {},
   "outputs": [],
   "source": [
    "CLS_layers = (features_1, features_2, features_3, features_4, features_5, features_6, features_7,\n",
    "                features_8, features_9, features_10, features_11, features_12, add_7_10, add_9_12)"
   ]
  },
  {
   "cell_type": "code",
   "execution_count": 30,
   "metadata": {},
   "outputs": [
    {
     "name": "stdout",
     "output_type": "stream",
     "text": [
      "\n",
      "| round | initially labeled data | number of queries | cost | Performance: |\n",
      "|   0   |   599 (10.01% of all)  |        169        |  0   | 0.713 ± 0.00 |\n",
      "| round | initially labeled data | number of queries | cost | Performance: |\n",
      "|   1   |   599 (10.01% of all)  |        169        |  0   | 0.695 ± 0.00 |\n",
      "| round | initially labeled data | number of queries | cost | Performance: |\n",
      "|   2   |   599 (10.01% of all)  |        169        |  0   | 0.705 ± 0.00 |\n",
      "| round | initially labeled data | number of queries | cost | Performance: |\n",
      "|   3   |   599 (10.01% of all)  |        169        |  0   | 0.713 ± 0.00 |\n",
      "| round | initially labeled data | number of queries | cost | Performance: |\n",
      "|   4   |   599 (10.01% of all)  |        169        |  0   | 0.701 ± 0.00 |\n",
      "| round | initially labeled data | number of queries | cost | Performance: |\n",
      "|   0   |   599 (10.01% of all)  |        169        |  0   | 0.710 ± 0.00 |\n",
      "| round | initially labeled data | number of queries | cost | Performance: |\n",
      "|   1   |   599 (10.01% of all)  |        169        |  0   | 0.695 ± 0.00 |\n",
      "| round | initially labeled data | number of queries | cost | Performance: |\n",
      "|   2   |   599 (10.01% of all)  |        169        |  0   | 0.701 ± 0.00 |\n",
      "| round | initially labeled data | number of queries | cost | Performance: |\n",
      "|   3   |   599 (10.01% of all)  |        169        |  0   | 0.709 ± 0.00 |\n",
      "| round | initially labeled data | number of queries | cost | Performance: |\n",
      "|   4   |   599 (10.01% of all)  |        169        |  0   | 0.700 ± 0.00 |\n",
      "| round | initially labeled data | number of queries | cost | Performance: |\n",
      "|   0   |   599 (10.01% of all)  |        169        |  0   | 0.696 ± 0.01 |\n",
      "| round | initially labeled data | number of queries | cost | Performance: |\n",
      "|   1   |   599 (10.01% of all)  |        169        |  0   | 0.682 ± 0.01 |\n",
      "| round | initially labeled data | number of queries | cost | Performance: |\n",
      "|   2   |   599 (10.01% of all)  |        169        |  0   | 0.684 ± 0.01 |\n",
      "| round | initially labeled data | number of queries | cost | Performance: |\n",
      "|   3   |   599 (10.01% of all)  |        169        |  0   | 0.688 ± 0.02 |\n",
      "| round | initially labeled data | number of queries | cost | Performance: |\n",
      "|   4   |   599 (10.01% of all)  |        169        |  0   | 0.693 ± 0.01 |\n",
      "| round | initially labeled data | number of queries | cost | Performance: |\n",
      "|   0   |   599 (10.01% of all)  |        169        |  0   | 0.690 ± 0.02 |\n",
      "| round | initially labeled data | number of queries | cost | Performance: |\n",
      "|   1   |   599 (10.01% of all)  |        169        |  0   | 0.678 ± 0.02 |\n",
      "| round | initially labeled data | number of queries | cost | Performance: |\n",
      "|   2   |   599 (10.01% of all)  |        169        |  0   | 0.682 ± 0.01 |\n",
      "| round | initially labeled data | number of queries | cost | Performance: |\n",
      "|   3   |   599 (10.01% of all)  |        169        |  0   | 0.695 ± 0.02 |\n",
      "| round | initially labeled data | number of queries | cost | Performance: |\n",
      "|   4   |   599 (10.01% of all)  |        169        |  0   | 0.691 ± 0.01 |\n",
      "| round | initially labeled data | number of queries | cost | Performance: |\n",
      "|   0   |   599 (10.01% of all)  |        169        |  0   | 0.693 ± 0.01 |\n",
      "| round | initially labeled data | number of queries | cost | Performance: |\n",
      "|   1   |   599 (10.01% of all)  |        169        |  0   | 0.677 ± 0.02 |\n",
      "| round | initially labeled data | number of queries | cost | Performance: |\n",
      "|   2   |   599 (10.01% of all)  |        169        |  0   | 0.687 ± 0.01 |\n",
      "| round | initially labeled data | number of queries | cost | Performance: |\n",
      "|   3   |   599 (10.01% of all)  |        169        |  0   | 0.692 ± 0.02 |\n",
      "| round | initially labeled data | number of queries | cost | Performance: |\n",
      "|   4   |   599 (10.01% of all)  |        169        |  0   | 0.688 ± 0.01 |\n",
      "| round | initially labeled data | number of queries | cost | Performance: |\n",
      "|   0   |   599 (10.01% of all)  |        169        |  0   | 0.703 ± 0.01 |\n",
      "| round | initially labeled data | number of queries | cost | Performance: |\n",
      "|   1   |   599 (10.01% of all)  |        169        |  0   | 0.692 ± 0.02 |\n",
      "| round | initially labeled data | number of queries | cost | Performance: |\n",
      "|   2   |   599 (10.01% of all)  |        169        |  0   | 0.688 ± 0.01 |\n",
      "| round | initially labeled data | number of queries | cost | Performance: |\n",
      "|   3   |   599 (10.01% of all)  |        169        |  0   | 0.702 ± 0.02 |\n",
      "| round | initially labeled data | number of queries | cost | Performance: |\n",
      "|   4   |   599 (10.01% of all)  |        169        |  0   | 0.688 ± 0.01 |\n",
      "| round | initially labeled data | number of queries | cost | Performance: |\n",
      "|   0   |   599 (10.01% of all)  |        169        |  0   | 0.711 ± 0.01 |\n",
      "| round | initially labeled data | number of queries | cost | Performance: |\n",
      "|   1   |   599 (10.01% of all)  |        169        |  0   | 0.701 ± 0.02 |\n",
      "| round | initially labeled data | number of queries | cost | Performance: |\n",
      "|   2   |   599 (10.01% of all)  |        169        |  0   | 0.693 ± 0.01 |\n",
      "| round | initially labeled data | number of queries | cost | Performance: |\n",
      "|   3   |   599 (10.01% of all)  |        169        |  0   | 0.711 ± 0.02 |\n",
      "| round | initially labeled data | number of queries | cost | Performance: |\n",
      "|   4   |   599 (10.01% of all)  |        169        |  0   | 0.712 ± 0.01 |\n",
      "| round | initially labeled data | number of queries | cost | Performance: |\n",
      "|   0   |   599 (10.01% of all)  |        169        |  0   | 0.731 ± 0.01 |\n",
      "| round | initially labeled data | number of queries | cost | Performance: |\n",
      "|   1   |   599 (10.01% of all)  |        169        |  0   | 0.711 ± 0.02 |\n",
      "| round | initially labeled data | number of queries | cost | Performance: |\n",
      "|   2   |   599 (10.01% of all)  |        169        |  0   | 0.710 ± 0.01 |\n",
      "| round | initially labeled data | number of queries | cost | Performance: |\n",
      "|   3   |   599 (10.01% of all)  |        169        |  0   | 0.724 ± 0.02 |\n",
      "| round | initially labeled data | number of queries | cost | Performance: |\n",
      "|   4   |   599 (10.01% of all)  |        169        |  0   | 0.710 ± 0.02 |\n",
      "| round | initially labeled data | number of queries | cost | Performance: |\n",
      "|   0   |   599 (10.01% of all)  |        169        |  0   | 0.752 ± 0.01 |\n",
      "| round | initially labeled data | number of queries | cost | Performance: |\n",
      "|   1   |   599 (10.01% of all)  |        169        |  0   | 0.733 ± 0.02 |\n",
      "| round | initially labeled data | number of queries | cost | Performance: |\n",
      "|   2   |   599 (10.01% of all)  |        169        |  0   | 0.731 ± 0.02 |\n",
      "| round | initially labeled data | number of queries | cost | Performance: |\n",
      "|   3   |   599 (10.01% of all)  |        169        |  0   | 0.748 ± 0.02 |\n",
      "| round | initially labeled data | number of queries | cost | Performance: |\n",
      "|   4   |   599 (10.01% of all)  |        169        |  0   | 0.738 ± 0.02 |\n",
      "| round | initially labeled data | number of queries | cost | Performance: |\n",
      "|   0   |   599 (10.01% of all)  |        169        |  0   | 0.759 ± 0.01 |\n",
      "| round | initially labeled data | number of queries | cost | Performance: |\n",
      "|   1   |   599 (10.01% of all)  |        169        |  0   | 0.746 ± 0.01 |\n",
      "| round | initially labeled data | number of queries | cost | Performance: |\n",
      "|   2   |   599 (10.01% of all)  |        169        |  0   | 0.735 ± 0.01 |\n",
      "| round | initially labeled data | number of queries | cost | Performance: |\n",
      "|   3   |   599 (10.01% of all)  |        169        |  0   | 0.747 ± 0.02 |\n",
      "| round | initially labeled data | number of queries | cost | Performance: |\n",
      "|   4   |   599 (10.01% of all)  |        169        |  0   | 0.750 ± 0.02 |\n",
      "| round | initially labeled data | number of queries | cost | Performance: |\n",
      "|   0   |   599 (10.01% of all)  |        169        |  0   | 0.753 ± 0.02 |\n",
      "| round | initially labeled data | number of queries | cost | Performance: |\n",
      "|   1   |   599 (10.01% of all)  |        169        |  0   | 0.729 ± 0.02 |\n",
      "| round | initially labeled data | number of queries | cost | Performance: |\n",
      "|   2   |   599 (10.01% of all)  |        169        |  0   | 0.724 ± 0.02 |\n",
      "| round | initially labeled data | number of queries | cost | Performance: |\n",
      "|   3   |   599 (10.01% of all)  |        169        |  0   | 0.741 ± 0.02 |\n",
      "| round | initially labeled data | number of queries | cost | Performance: |\n",
      "|   4   |   599 (10.01% of all)  |        169        |  0   | 0.735 ± 0.02 |\n",
      "| round | initially labeled data | number of queries | cost | Performance: |\n",
      "|   0   |   599 (10.01% of all)  |        169        |  0   | 0.760 ± 0.01 |\n",
      "| round | initially labeled data | number of queries | cost | Performance: |\n",
      "|   1   |   599 (10.01% of all)  |        169        |  0   | 0.755 ± 0.01 |\n",
      "| round | initially labeled data | number of queries | cost | Performance: |\n",
      "|   2   |   599 (10.01% of all)  |        169        |  0   | 0.745 ± 0.01 |\n",
      "| round | initially labeled data | number of queries | cost | Performance: |\n",
      "|   3   |   599 (10.01% of all)  |        169        |  0   | 0.769 ± 0.01 |\n",
      "| round | initially labeled data | number of queries | cost | Performance: |\n",
      "|   4   |   599 (10.01% of all)  |        169        |  0   | 0.758 ± 0.01 |\n",
      "| round | initially labeled data | number of queries | cost | Performance: |\n",
      "|   0   |   599 (10.01% of all)  |        169        |  0   | 0.732 ± 0.02 |\n",
      "| round | initially labeled data | number of queries | cost | Performance: |\n",
      "|   1   |   599 (10.01% of all)  |        169        |  0   | 0.717 ± 0.03 |\n",
      "| round | initially labeled data | number of queries | cost | Performance: |\n",
      "|   2   |   599 (10.01% of all)  |        169        |  0   | 0.710 ± 0.02 |\n",
      "| round | initially labeled data | number of queries | cost | Performance: |\n",
      "|   3   |   599 (10.01% of all)  |        169        |  0   | 0.730 ± 0.03 |\n",
      "| round | initially labeled data | number of queries | cost | Performance: |\n",
      "|   4   |   599 (10.01% of all)  |        169        |  0   | 0.720 ± 0.03 |\n",
      "| round | initially labeled data | number of queries | cost | Performance: |\n",
      "|   0   |   599 (10.01% of all)  |        169        |  0   | 0.733 ± 0.02 |\n",
      "| round | initially labeled data | number of queries | cost | Performance: |\n",
      "|   1   |   599 (10.01% of all)  |        169        |  0   | 0.717 ± 0.02 |\n",
      "| round | initially labeled data | number of queries | cost | Performance: |\n",
      "|   2   |   599 (10.01% of all)  |        169        |  0   | 0.716 ± 0.02 |\n",
      "| round | initially labeled data | number of queries | cost | Performance: |\n",
      "|   3   |   599 (10.01% of all)  |        169        |  0   | 0.724 ± 0.03 |\n",
      "| round | initially labeled data | number of queries | cost | Performance: |\n",
      "|   4   |   599 (10.01% of all)  |        169        |  0   | 0.724 ± 0.02 |"
     ]
    }
   ],
   "source": [
    "for i in range(len(CLS_layers)):\n",
    "\n",
    "    X=CLS_layers[i]\n",
    "    y=labels_np\n",
    "\n",
    "    alibox = ToolBox(X=X, y=y, query_type='AllLabels', saving_path='.')\n",
    "\n",
    "    # Split data\n",
    "    alibox.split_AL(test_ratio=0.3, initial_label_rate=0.1, split_count=10)\n",
    "\n",
    "    # Use the default Logistic Regression classifier\n",
    "    model = alibox.get_default_model()\n",
    "\n",
    "    # The cost budget is 50 times querying\n",
    "    stopping_criterion = alibox.get_stopping_criterion('num_of_queries', n_iteration)\n",
    "    \n",
    "\n",
    "    for round in range(5):\n",
    "        train_idx, test_idx, label_ind, unlab_ind = alibox.get_split(round)\n",
    "\n",
    "        # Use pre-defined strategy\n",
    "        unc = alibox.get_query_strategy(strategy_name=\"QueryInstanceUncertainty\")\n",
    "\n",
    "        unc_results[i].append(copy.deepcopy(main_loop(alibox, unc, round)))\n",
    "        "
   ]
  },
  {
   "cell_type": "code",
   "execution_count": 34,
   "metadata": {},
   "outputs": [
    {
     "name": "stdout",
     "output_type": "stream",
     "text": [
      "\n",
      "+----------------+-------------------+---------------------------+--------------+------------+\n",
      "|    Methods     | number_of_queries | number_of_different_split | performance  | batch_size |\n",
      "+----------------+-------------------+---------------------------+--------------+------------+\n",
      "|  Unc_Layer_12  |        169        |             5             | 0.757 ± 0.01 |     32     |\n",
      "|  Unc_Layer_11  |        169        |             5             | 0.736 ± 0.01 |     32     |\n",
      "|  Unc_Layer_10  |        169        |             5             | 0.747 ± 0.01 |     32     |\n",
      "|  Unc_Layer_9   |        169        |             5             | 0.740 ± 0.01 |     32     |\n",
      "|  Unc_Layer_8   |        169        |             5             | 0.717 ± 0.01 |     32     |\n",
      "|  Unc_Layer_7   |        169        |             5             | 0.705 ± 0.01 |     32     |\n",
      "|  Unc_Layer_6   |        169        |             5             | 0.694 ± 0.01 |     32     |\n",
      "|  Unc_Layer_5   |        169        |             5             | 0.687 ± 0.01 |     32     |\n",
      "|  Unc_Layer_4   |        169        |             5             | 0.687 ± 0.01 |     32     |\n",
      "|  Unc_Layer_3   |        169        |             5             | 0.688 ± 0.01 |     32     |\n",
      "|  Unc_Layer_2   |        169        |             5             | 0.703 ± 0.01 |     32     |\n",
      "|  Unc_Layer_1   |        169        |             5             | 0.705 ± 0.01 |     32     |\n",
      "| Unc_Layer_7-10 |        169        |             5             | 0.722 ± 0.01 |     32     |\n",
      "| Unc_Layer_9-12 |        169        |             5             | 0.722 ± 0.01 |     32     |\n",
      "+----------------+-------------------+---------------------------+--------------+------------+\n"
     ]
    },
    {
     "data": {
      "image/png": "[encoded data removed]",
      "text/plain": [
       "<Figure size 432x288 with 1 Axes>"
      ]
     },
     "metadata": {
      "needs_background": "light"
     },
     "output_type": "display_data"
    }
   ],
   "source": [
    "analyser = alibox.get_experiment_analyser(x_axis='num_of_queries')\n",
    "\n",
    "\n",
    "for i in range(len(unc_results)-2):\n",
    "    \n",
    "    # Iterationg results in reverse beacues 12th layer has the best performance and will stay at top\n",
    "    # On the plot we want to somehow corralete the layer and the plot\n",
    "    analyser.add_method(method_name='Unc_Layer_' + str(len(CLS_layers)-i-2), method_results=unc_results[len(CLS_layers)-i-3])        \n",
    "    \n",
    "analyser.add_method(method_name='Unc_Layer_7-10' , method_results=unc_results[12])\n",
    "analyser.add_method(method_name='Unc_Layer_9-12' , method_results=unc_results[13])\n",
    "    \n",
    "print(analyser)\n",
    "analyser.plot_learning_curves(title='Layer', std_area=False)"
   ]
  },
  {
   "cell_type": "code",
   "execution_count": 32,
   "metadata": {},
   "outputs": [
    {
     "name": "stdout",
     "output_type": "stream",
     "text": [
      "FOR 14 TRANSFORMER BLOCKS\n",
      "1200 Queries\n",
      "5 different train/test splits\n",
      "-----------------------------------------\n",
      "Average Runtime For one Transformer Block\n",
      "1.509965577935729\n",
      "Maximum Runtime For one Query\n",
      "7.015101909637451\n",
      "Minimum Runtime For one Query\n",
      "0.04769182205200195\n",
      "Total Time\n",
      "17862.892786979675\n"
     ]
    }
   ],
   "source": [
    "avg_time = sum(total_time) / len(total_time)\n",
    "    \n",
    "print('FOR 14 TRANSFORMER BLOCKS' )\n",
    "print('1200 Queries')\n",
    "print('5 different train/test splits')\n",
    "print(\"-----------------------------------------\")\n",
    "print(\"Average Runtime For one Transformer Block\")\n",
    "print(avg_time)\n",
    "               \n",
    "print(\"Maximum Runtime For one Query\")\n",
    "print(max(total_time))\n",
    "               \n",
    "print(\"Minimum Runtime For one Query\")\n",
    "print(min(total_time))\n",
    "\n",
    "print(\"Total Time\")\n",
    "print(sum(total_time))"
   ]
  },
  {
   "cell_type": "code",
   "execution_count": 33,
   "metadata": {},
   "outputs": [
    {
     "data": {
      "image/png": "[encoded data removed]",
      "text/plain": [
       "<Figure size 432x288 with 1 Axes>"
      ]
     },
     "metadata": {
      "needs_background": "light"
     },
     "output_type": "display_data"
    }
   ],
   "source": [
    "import matplotlib.pyplot as plt\n",
    "\n",
    "plt.plot(total_time)\n",
    "plt.ylabel('Time in Seconds')\n",
    "plt.xlabel('Query Instances')\n",
    "plt.show()"
   ]
  },
  {
   "cell_type": "code",
   "execution_count": null,
   "metadata": {},
   "outputs": [],
   "source": []
  }
 ],
 "metadata": {
  "colab": {
   "include_colab_link": true,
   "machine_shape": "hm",
   "name": "A Visual Notebook to Using BERT for the First Time.ipynb",
   "provenance": []
  },
  "kernelspec": {
   "display_name": "Python 3 (ipykernel)",
   "language": "python",
   "name": "python3"
  },
  "language_info": {
   "codemirror_mode": {
    "name": "ipython",
    "version": 3
   },
   "file_extension": ".py",
   "mimetype": "text/x-python",
   "name": "python",
   "nbconvert_exporter": "python",
   "pygments_lexer": "ipython3",
   "version": "3.8.12"
  }
 },
 "nbformat": 4,
 "nbformat_minor": 1
}
